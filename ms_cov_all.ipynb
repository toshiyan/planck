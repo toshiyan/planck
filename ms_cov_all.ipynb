{
 "cells": [
  {
   "cell_type": "code",
   "execution_count": 13,
   "metadata": {},
   "outputs": [],
   "source": [
    "import numpy as np, prjlib, plottools as pl, tools_y, tools_qrec, pickle, binning as bn, analysis as ana\n",
    "from scipy.signal import savgol_filter\n",
    "from matplotlib.pyplot import *"
   ]
  },
  {
   "cell_type": "code",
   "execution_count": 10,
   "metadata": {},
   "outputs": [],
   "source": [
    "def plot_cov(cov,bins=None,xlab='L1',ylab='L2',zmin=-1,zmax=1,clab='cov'):\n",
    "    #cor = np.corrcoef(dat,rowvar=0)\n",
    "    # normalized by the diagonals\n",
    "    dcov = np.diag(1./np.sqrt(np.diag(cov)))\n",
    "    ncov = np.matmul(np.matmul(dcov,cov),dcov)\n",
    "    if bins is None:\n",
    "        bn = len(cov[0])\n",
    "        x = np.linspace(1,bn,bn)\n",
    "    else:\n",
    "        x = bins\n",
    "    xlabel(xlab)\n",
    "    ylabel(ylab)\n",
    "    pcolor(x,x,ncov,vmin=zmin,vmax=zmax)\n",
    "    cb = colorbar()\n",
    "    cb.set_label(clab,labelpad=20,rotation=270)\n",
    "    axhline(10)\n",
    "    axvline(10)\n",
    "    show()"
   ]
  },
  {
   "cell_type": "code",
   "execution_count": 14,
   "metadata": {},
   "outputs": [],
   "source": [
    "def prep_cov(mb,snmax=100,dtype='dr2_smica',mtype=0,cmask='Lmask',ytype='nilc',est='bh-lens-src',fltr='cinv'):\n",
    "    p = prjlib.init_analysis(snmax=snmax,dtype=dtype,fltr=fltr,wtype=cmask)\n",
    "    qtau, __, __, qtbh, qtBH = tools_qrec.init_quad(p.ids,p.stag,rlmin=100,rlmax=2048)\n",
    "    cy = tools_y.init_compy(p.ids,masktype=mtype,ytype=ytype,ascale=1.)\n",
    "\n",
    "    if est=='bh-lens-src':\n",
    "        qobj = qtBH\n",
    "        bh = est\n",
    "        fx = tools_y.init_cross(qtBH,cy,p.ids,p.stag)\n",
    "    if est=='bh-lens':\n",
    "        qobj = qtbh\n",
    "        fx = tools_y.init_cross(qtbh,cy,p.ids,p.stag)\n",
    "        bh = est\n",
    "    if est=='':\n",
    "        fx = tools_y.init_cross(qtau,cy,p.ids,p.stag)\n",
    "        bh = 'bh-none'\n",
    "\n",
    "    # tau x tau\n",
    "    al = (np.loadtxt(qobj.f['TT'].al)).T[1]\n",
    "    vl = al/np.sqrt(qobj.l+1e-30)\n",
    "    mtt, __, stt, ott = bn.binned_spec(mb,qobj.f['TT'].cl[:snmax+1],cn=1,doreal=True,opt=True,vl=vl)\n",
    "    n0 = (np.loadtxt(qobj.f['TT'].n0bs)).T[1]\n",
    "    nb = bn.binning(n0,mb,vl=vl)\n",
    "    rd = np.array( [ (np.loadtxt(qobj.f['TT'].rdn0[i])).T[1] for i in p.rlz ] )\n",
    "    rb = bn.binning(rd,mb,vl=vl)\n",
    "\n",
    "    # debias\n",
    "    ott = ott - rb[0] - nb/(qobj.mfsim)\n",
    "    mtt = mtt - np.mean(rb[1:,:],axis=0) - nb/(qobj.mfsim-1)\n",
    "    ott = ott - mtt # subtract average of sim\n",
    "    stt = stt - rb[1:,:] - nb/(qobj.mfsim-1)\n",
    "    vtt = np.std(stt,axis=0)\n",
    "    #stt = stt - nb - nb/(qobj.mfsim-1)\n",
    "\n",
    "    # PTE for tauxtau\n",
    "    st = ana.PTEs(ott,stt-mtt,x1pte=True)\n",
    "\n",
    "    # tau x y\n",
    "    yy = (np.loadtxt(cy.fclyy)).T[1]\n",
    "    yy = savgol_filter(yy, 51, 3)\n",
    "    vl = np.sqrt(al*yy)/np.sqrt(qobj.l+1e-30)\n",
    "    __, vty, sty, oty = bn.binned_spec(mb,fx.xl[:snmax+1],cn=1,opt=True,vl=vl)\n",
    "    if mtype==0: ymask = 'G60'\n",
    "    if mtype==1: ymask = 'G50'\n",
    "    tag = dtype+'_'+cmask+'_'+ytype+'_'+ymask+'_'+bh\n",
    "    \n",
    "    # PTE for tauxy\n",
    "    st = ana.PTEs(oty,sty,x1pte=True)\n",
    "\n",
    "    # output spec\n",
    "    ocb = np.concatenate((ott,oty))\n",
    "    vcb = np.concatenate((vtt,vty))\n",
    "    bc2 = np.concatenate((mb.bc,mb.bc))\n",
    "    np.savetxt('../v2.2/cl_'+tag+'.dat',np.array((bc2,ocb,vcb)).T)\n",
    "    \n",
    "    # calc cov\n",
    "    scb = np.concatenate((stt,sty),axis=1)\n",
    "    cov = np.cov(scb,rowvar=0)\n",
    "    np.savetxt('../v2.2/covariance_'+tag+'.dat',cov)\n",
    "\n",
    "    # plot tau x tau\n",
    "    pl.plot_1dstyle(fsize=[10,4],ylab=r'$10^5 LC_L^{\\tau\\tau}$',ymin=-1.5,ymax=1.5,xmin=1,xmax=2048)\n",
    "    s = mb.bc * 1e5\n",
    "    bns = len(mb.bc)\n",
    "    errorbar(mb.bc,s*ocb[:bns],yerr=s*vcb[:bns],fmt='o')\n",
    "    axhline(0,color='k',ls='--')\n",
    "    savefig('../v2.2/fig_tauxtau_'+tag+'.png')\n",
    "    show()\n",
    "\n",
    "    # plot tau x y\n",
    "    pl.plot_1dstyle(fsize=[10,4],ylab=r'$10^8 L^2C_L^{\\tau y}/2\\pi$',ymin=-1,ymax=1,xmin=1,xmax=2048)\n",
    "    s = mb.bc**2/(2*np.pi)*1e8\n",
    "    errorbar(mb.bc,s*ocb[bns:],yerr=s*vcb[bns:],fmt='o')\n",
    "    axhline(0,color='k',ls='--')\n",
    "    savefig('../v2.2/fig_tauxy_'+tag+'.png')\n",
    "    show()\n",
    "    \n",
    "    # plot covariance\n",
    "    plot_cov(cov)\n",
    "\n",
    "    return bc2, ocb, vcb, cov"
   ]
  },
  {
   "cell_type": "code",
   "execution_count": 15,
   "metadata": {},
   "outputs": [
    {
     "name": "stdout",
     "output_type": "stream",
     "text": [
      "chi: -4.9 , chi (sim): 0.0 , PTE: 0.20 \n",
      "chi^2: 17.7 , chi^2 (sim): 11.2 , PTE: 0.14 \n",
      "chi: -2.5 , chi (sim): -0.0 , PTE: 0.44 \n",
      "chi^2: 16.0 , chi^2 (sim): 11.1 , PTE: 0.18 \n"
     ]
    },
    {
     "data": {
      "image/png": "[encoded data removed]",
      "text/plain": [
       "<Figure size 720x288 with 1 Axes>"
      ]
     },
     "metadata": {
      "needs_background": "light"
     },
     "output_type": "display_data"
    },
    {
     "data": {
      "image/png": "[encoded data removed]",
      "text/plain": [
       "<Figure size 720x288 with 1 Axes>"
      ]
     },
     "metadata": {
      "needs_background": "light"
     },
     "output_type": "display_data"
    },
    {
     "data": {
      "image/png": "[encoded data removed]",
      "text/plain": [
       "<Figure size 720x288 with 2 Axes>"
      ]
     },
     "metadata": {
      "needs_background": "light"
     },
     "output_type": "display_data"
    }
   ],
   "source": [
    "mb = bn.multipole_binning(10,lmin=1,lmax=2048)\n",
    "bc2, ocb, vcb, cov = prep_cov(mb)"
   ]
  },
  {
   "cell_type": "code",
   "execution_count": null,
   "metadata": {},
   "outputs": [],
   "source": [
    "mb = bn.multipole_binning(10,lmin=1,lmax=2048)\n",
    "__, ocb, vcb0, cov0 = prep_cov(mb,dtype='dr2_nilc')"
   ]
  },
  {
   "cell_type": "code",
   "execution_count": null,
   "metadata": {},
   "outputs": [],
   "source": [
    "mb = bn.multipole_binning(10,lmin=1,lmax=2048)\n",
    "__, ocb2, vcb2, cov2 = prep_cov(mb,snmax=100,cmask='G60Lmask')"
   ]
  },
  {
   "cell_type": "code",
   "execution_count": null,
   "metadata": {},
   "outputs": [],
   "source": [
    "mb = bn.multipole_binning(10,lmin=20,lmax=2048)\n",
    "__, ocb0, vcb0, cov0 = prep_cov(mb,dtype='dr3_nosz',cmask='LmaskDR3')"
   ]
  },
  {
   "cell_type": "markdown",
   "metadata": {},
   "source": [
    "Plot Correlation Coefficients"
   ]
  },
  {
   "cell_type": "markdown",
   "metadata": {},
   "source": [
    "Other cases"
   ]
  },
  {
   "cell_type": "code",
   "execution_count": null,
   "metadata": {},
   "outputs": [],
   "source": [
    "mb = bn.multipole_binning(10,lmin=1,lmax=2048)\n",
    "__, ocb1, vcb1, cov1 = prep_cov(mb,ytype='milca')\n",
    "__, ocb3, vcb3, cov3 = prep_cov(mb,mtype=1)\n",
    "#__, ocb4, vcb4, cov4 = prep_cov(mb,est='bh-lens')\n",
    "#__, ocb5, vcb5, cov5 = prep_cov(mb,est='')"
   ]
  },
  {
   "cell_type": "code",
   "execution_count": null,
   "metadata": {},
   "outputs": [],
   "source": []
  }
 ],
 "metadata": {
  "kernelspec": {
   "display_name": "py4so",
   "language": "python",
   "name": "py4so"
  },
  "language_info": {
   "codemirror_mode": {
    "name": "ipython",
    "version": 3
   },
   "file_extension": ".py",
   "mimetype": "text/x-python",
   "name": "python",
   "nbconvert_exporter": "python",
   "pygments_lexer": "ipython3",
   "version": "3.7.2"
  }
 },
 "nbformat": 4,
 "nbformat_minor": 4
}
