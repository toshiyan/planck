{
 "cells": [
  {
   "cell_type": "code",
   "execution_count": 1,
   "metadata": {},
   "outputs": [],
   "source": [
    "import cosmology as cosmo, basic, tqdm\n",
    "from matplotlib.pyplot import *\n",
    "from scipy.integrate import quad, dblquad\n",
    "from scipy.interpolate import InterpolatedUnivariateSpline as spline"
   ]
  },
  {
   "cell_type": "code",
   "execution_count": 2,
   "metadata": {},
   "outputs": [],
   "source": [
    "def xHlogxH(xe):\n",
    "    if 1.-xe<1e-6:\n",
    "        return 0.\n",
    "    else:\n",
    "        return (1.-xe)*np.log(1.-xe)"
   ]
  },
  {
   "cell_type": "code",
   "execution_count": 3,
   "metadata": {},
   "outputs": [],
   "source": [
    "def Pr(R,R0,sigma=np.log(2.)):\n",
    "    return 1./(R*np.sqrt(2*np.pi*sigma**2)) * np.exp(-(np.log(R/R0))**2/(2.*sigma**2))"
   ]
  },
  {
   "cell_type": "code",
   "execution_count": 4,
   "metadata": {},
   "outputs": [],
   "source": [
    "def Wth(x):\n",
    "    return 3./x**3 * (np.sin(x)-x*np.cos(x))"
   ]
  },
  {
   "cell_type": "code",
   "execution_count": 5,
   "metadata": {},
   "outputs": [],
   "source": [
    "def Fk(k,R0):\n",
    "    I1 = lambda R: Pr(R,R0)*(4*np.pi*R**3/3.)**2*Wth(k*R)**2\n",
    "    I2 = lambda R: Pr(R,R0)*4*np.pi*R**3/3.\n",
    "    neum = quad(I1,0.,2e2)[0]\n",
    "    deno = quad(I2,0.,2e2)[0]\n",
    "    return neum/deno"
   ]
  },
  {
   "cell_type": "code",
   "execution_count": 6,
   "metadata": {},
   "outputs": [],
   "source": [
    "def Gk_muint(k,K,Pk):\n",
    "    I = lambda mu: Pk( np.sqrt(k**2-2*k*K*mu+K**2) )\n",
    "    return quad(I,-1.,1.)[0]"
   ]
  },
  {
   "cell_type": "code",
   "execution_count": 7,
   "metadata": {},
   "outputs": [],
   "source": [
    "def Gk(k,R0,Pk):\n",
    "    vFk = np.vectorize(Fk)\n",
    "    vGkint = np.vectorize(Gk_muint)\n",
    "    Ki = np.logspace(-3,1,11)\n",
    "    dK = Ki[1:]-Ki[:-1]\n",
    "    I = np.sum(dK*Ki[:-1]**2*vGkint(k,Ki[:-1],Pk)/(2*np.pi)**2*vFk(Ki[:-1],R0))\n",
    "    #Gk_int = lambda mu, K: K**2*Pk( np.sqrt(k**2-2*k*K*mu+K**2) ) * Fk(K,R0) / (2*np.pi)**2\n",
    "    #I = dblquad( Gk_int, 1e-3, 1, lambda x:-1, lambda x:1 )[0]\n",
    "    return I"
   ]
  },
  {
   "cell_type": "code",
   "execution_count": 8,
   "metadata": {},
   "outputs": [],
   "source": [
    "def Ik(k,R0):\n",
    "    I1 = lambda R: Pr(R,R0) * R**3 * Wth(k*R)\n",
    "    I2 = lambda R: Pr(R,R0) * R**3\n",
    "    neum = quad(I1,0.,2e2)[0]\n",
    "    deno = quad(I2,0.,2e2)[0]\n",
    "    return neum/deno"
   ]
  },
  {
   "cell_type": "code",
   "execution_count": 9,
   "metadata": {},
   "outputs": [],
   "source": [
    "def xe_sym(z,zre=8.,Dz=4.):\n",
    "    y = np.power(1.+z,1.5)\n",
    "    yre = np.power(1.+zre,1.5)\n",
    "    Dy  = 1.5*np.sqrt(1.+zre)*Dz\n",
    "    return .5*(1.-np.tanh((y-yre)/Dy))"
   ]
  },
  {
   "cell_type": "code",
   "execution_count": 10,
   "metadata": {},
   "outputs": [],
   "source": [
    "def xe_asym(z,alpha=6.,zend=6.):\n",
    "    if z < zend:\n",
    "        return 1.\n",
    "    if z >= zend and z<20.:\n",
    "        return np.power((20.-z)/(20.-zend),alpha)\n",
    "    if z >= 20:\n",
    "        return 1e-30"
   ]
  },
  {
   "cell_type": "code",
   "execution_count": 11,
   "metadata": {},
   "outputs": [],
   "source": [
    "cps = {'H0':67.5,'Om':.31,'Ov':.69,'w0':-1.,'wa':0.}\n",
    "Obh2 = .0223\n",
    "bias = 6.\n",
    "R0 = 100.\n",
    "model = 'TH'\n",
    "alpha = 0."
   ]
  },
  {
   "cell_type": "code",
   "execution_count": 12,
   "metadata": {},
   "outputs": [],
   "source": [
    "k, pk0 = np.loadtxt('../data/other/Pklin.dat',unpack=True)\n",
    "k *= cps['H0']/100.\n",
    "pk0 /= (cps['H0']/100.)**3\n",
    "Pk = spline(k,pk0)"
   ]
  },
  {
   "cell_type": "code",
   "execution_count": 13,
   "metadata": {},
   "outputs": [],
   "source": [
    "zi = np.linspace(1e-4,20.,2000)\n",
    "Hzi = basic.cosmofuncs.hubble(zi,**cps)\n",
    "rzi = basic.cosmofuncs.dist_comoving(zi,**cps)\n",
    "Dzi = basic.cosmofuncs.growth_factor(zi,normed=True,**cps)\n",
    "Hz = spline( zi, Hzi )\n",
    "rz = spline( zi, rzi )\n",
    "Dz = spline( zi, Dzi )"
   ]
  },
  {
   "cell_type": "code",
   "execution_count": 14,
   "metadata": {},
   "outputs": [
    {
     "name": "stderr",
     "output_type": "stream",
     "text": [
      "  0%|          | 0/100 [00:00<?, ?it/s]"
     ]
    },
    {
     "name": "stdout",
     "output_type": "stream",
     "text": [
      "tau 0.06860015693257339\n"
     ]
    },
    {
     "name": "stderr",
     "output_type": "stream",
     "text": [
      "/global/homes/t/toshiyan/.conda/envs/loc/lib/python3.7/site-packages/ipykernel_launcher.py:4: IntegrationWarning: The occurrence of roundoff error is detected, which prevents \n",
      "  the requested tolerance from being achieved.  The error may be \n",
      "  underestimated.\n",
      "  after removing the cwd from sys.path.\n",
      "/global/homes/t/toshiyan/.conda/envs/loc/lib/python3.7/site-packages/ipykernel_launcher.py:4: IntegrationWarning: The maximum number of subdivisions (50) has been achieved.\n",
      "  If increasing the limit yields no improvement it is advised to analyze \n",
      "  the integrand in order to determine the difficulties.  If the position of a \n",
      "  local difficulty can be determined (singularity, discontinuity) one will \n",
      "  probably gain from splitting up the interval and calling the integrator \n",
      "  on the subranges.  Perhaps a special-purpose integrator should be used.\n",
      "  after removing the cwd from sys.path.\n",
      " 51%|█████     | 51/100 [21:07<17:20, 21.23s/it] /global/homes/t/toshiyan/.conda/envs/loc/lib/python3.7/site-packages/ipykernel_launcher.py:3: IntegrationWarning: The occurrence of roundoff error is detected, which prevents \n",
      "  the requested tolerance from being achieved.  The error may be \n",
      "  underestimated.\n",
      "  This is separate from the ipykernel package so we can avoid doing imports until\n",
      " 92%|█████████▏| 92/100 [36:04<03:09, 23.73s/it]/global/homes/t/toshiyan/.conda/envs/loc/lib/python3.7/site-packages/ipykernel_launcher.py:4: IntegrationWarning: The integral is probably divergent, or slowly convergent.\n",
      "  after removing the cwd from sys.path.\n",
      "100%|██████████| 100/100 [38:48<00:00, 23.28s/it]\n"
     ]
    }
   ],
   "source": [
    "# define functions\n",
    "\n",
    "fac = 7.477e-30*3e24*Obh2 # Eq.(3.43) of Dodelson's Modern Cosmology\n",
    "\n",
    "Kz  = lambda z: fac**2*(1+z)**4/rz(z)**2/Hz(z)\n",
    "if model=='AS': xe = lambda z: xe_asym(z)\n",
    "if model=='TH': xe = lambda z: xe_sym(z)\n",
    "\n",
    "# tau\n",
    "I = lambda z: (1+z)**2/Hz(z) * xe(z)\n",
    "print('tau', quad(I,0.,100.)[0] * fac)\n",
    "\n",
    "l  = np.linspace(1,3000,100)\n",
    "cl = np.zeros((2,np.size(l)))\n",
    "\n",
    "Rz = lambda z: R0*np.power(10.,alpha*(xe(z)-.5))\n",
    "if alpha==0.: \n",
    "    Rz = lambda z: R0\n",
    "\n",
    "for i, L in enumerate(tqdm.tqdm(l)):\n",
    "    k  = lambda z: L/rz(z)\n",
    "    Pm = lambda z: Dz(z)**2*Pk(k(z))\n",
    "    P1 = lambda z: xe(z) * (1-xe(z)) * ( Fk(k(z),Rz(z)) + Gk(k(z),Rz(z),Pm) )\n",
    "    P2 = lambda z: ( xHlogxH(xe(z))*bias*Ik(k(z),Rz(z)) - xe(z) )**2 * Pm(z)\n",
    "    I0 = lambda z: Kz(z)*(P1(z)+P2(z))\n",
    "    I1 = lambda z: Kz(z)*P1(z)\n",
    "    cl[0,i] = quad(I0,0.,100.)[0]\n",
    "    cl[1,i] = quad(I1,0.,100.)[0]\n",
    "    #print('Cl',L,cl[:,i])\n",
    "\n",
    "np.savetxt('tt_'+model+'_R'+str(R0)+'_a'+str(alpha)+'.dat',np.concatenate((l[None,:],cl)).T)"
   ]
  },
  {
   "cell_type": "code",
   "execution_count": 20,
   "metadata": {},
   "outputs": [
    {
     "data": {
      "text/plain": [
       "[<matplotlib.lines.Line2D at 0x2aabeaf29390>]"
      ]
     },
     "execution_count": 20,
     "metadata": {},
     "output_type": "execute_result"
    },
    {
     "data": {
      "image/png": "[encoded data removed]",
      "text/plain": [
       "<Figure size 432x288 with 1 Axes>"
      ]
     },
     "metadata": {
      "needs_background": "light"
     },
     "output_type": "display_data"
    }
   ],
   "source": [
    "xlim(1,3000)\n",
    "ylim(1e-13,1e-9)\n",
    "xscale('log')\n",
    "yscale('log')\n",
    "plot(l,l**2*cl[0,:]/2/np.pi*1e-6)"
   ]
  },
  {
   "cell_type": "code",
   "execution_count": 16,
   "metadata": {},
   "outputs": [
    {
     "data": {
      "text/plain": [
       "[<matplotlib.lines.Line2D at 0x2aabeaf68e48>]"
      ]
     },
     "execution_count": 16,
     "metadata": {},
     "output_type": "execute_result"
    },
    {
     "data": {
      "image/png": "[encoded data removed]",
      "text/plain": [
       "<Figure size 432x288 with 1 Axes>"
      ]
     },
     "metadata": {
      "needs_background": "light"
     },
     "output_type": "display_data"
    }
   ],
   "source": [
    "xlim(1,3000)\n",
    "plot(l,1e7*cl[0,:])"
   ]
  },
  {
   "cell_type": "code",
   "execution_count": null,
   "metadata": {},
   "outputs": [],
   "source": []
  }
 ],
 "metadata": {
  "kernelspec": {
   "display_name": "py4so",
   "language": "python",
   "name": "py4so"
  },
  "language_info": {
   "codemirror_mode": {
    "name": "ipython",
    "version": 3
   },
   "file_extension": ".py",
   "mimetype": "text/x-python",
   "name": "python",
   "nbconvert_exporter": "python",
   "pygments_lexer": "ipython3",
   "version": "3.7.2"
  }
 },
 "nbformat": 4,
 "nbformat_minor": 4
}
