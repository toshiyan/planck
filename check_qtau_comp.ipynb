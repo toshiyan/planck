{
 "cells": [
  {
   "cell_type": "code",
   "execution_count": 1,
   "metadata": {},
   "outputs": [],
   "source": [
    "import numpy as np, prjlib, plottools as pl, binning as bn, tools_qrec, analysis as ana\n",
    "from matplotlib.pyplot import *"
   ]
  },
  {
   "cell_type": "code",
   "execution_count": 6,
   "metadata": {},
   "outputs": [],
   "source": [
    "def plots_tt(mb,i,dtype='dr2_smica',cmask='Lmask',bhe=['lens'],co='r',Lab='Baseline'):\n",
    "    s = mb.bc\n",
    "    mtt, vtt, stt, ott = tools_qrec.load_binned_tt(mb,dtype=dtype,cmask=cmask,bhe=bhe)\n",
    "    errorbar(mb.bc+i*21-30,s*ott,yerr=s*vtt,fmt='o',color=co,label=Lab)\n",
    "    st = ana.PTEs(ott,stt-mtt,x1pte=True)"
   ]
  },
  {
   "cell_type": "code",
   "execution_count": 7,
   "metadata": {},
   "outputs": [],
   "source": [
    "mb = bn.multipole_binning(10,lmin=1,lmax=2048)"
   ]
  },
  {
   "cell_type": "code",
   "execution_count": 8,
   "metadata": {},
   "outputs": [
    {
     "name": "stdout",
     "output_type": "stream",
     "text": [
      "chi: -7.0 , chi (sim mean): 0.0 , chi (sim std): 3.6 , PTE: 0.08 \n",
      "chi^2: 19.5 , chi^2 (sim): 11.2 , PTE: 0.09 \n",
      "chi: -5.3 , chi (sim mean): 0.0 , chi (sim std): 4.3 , PTE: 0.22 \n",
      "chi^2: 15.5 , chi^2 (sim): 11.1 , PTE: 0.17 \n",
      "chi: -5.3 , chi (sim mean): -0.0 , chi (sim std): 4.4 , PTE: 0.18 \n",
      "chi^2: 22.4 , chi^2 (sim): 11.2 , PTE: 0.04 \n"
     ]
    },
    {
     "data": {
      "text/plain": [
       "<matplotlib.legend.Legend at 0x2aaae83eaeb8>"
      ]
     },
     "execution_count": 8,
     "metadata": {},
     "output_type": "execute_result"
    },
    {
     "data": {
      "image/png": "[encoded data removed]",
      "text/plain": [
       "<Figure size 432x288 with 1 Axes>"
      ]
     },
     "metadata": {
      "needs_background": "light"
     },
     "output_type": "display_data"
    }
   ],
   "source": [
    "bhe = ['lens','src']\n",
    "plots_tt(mb,0,bhe=bhe)\n",
    "plots_tt(mb,1,dtype='dr2_nilc',bhe=bhe,co='c')\n",
    "plots_tt(mb,2,dtype='dr3_nosz',cmask='LmaskDR3',bhe=bhe,co='b')\n",
    "axhline(0,color='k',ls='--')\n",
    "legend()"
   ]
  },
  {
   "cell_type": "code",
   "execution_count": null,
   "metadata": {},
   "outputs": [],
   "source": []
  }
 ],
 "metadata": {
  "kernelspec": {
   "display_name": "py4so",
   "language": "python",
   "name": "py4so"
  },
  "language_info": {
   "codemirror_mode": {
    "name": "ipython",
    "version": 3
   },
   "file_extension": ".py",
   "mimetype": "text/x-python",
   "name": "python",
   "nbconvert_exporter": "python",
   "pygments_lexer": "ipython3",
   "version": "3.7.2"
  }
 },
 "nbformat": 4,
 "nbformat_minor": 4
}
