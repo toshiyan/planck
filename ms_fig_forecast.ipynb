{
 "cells": [
  {
   "cell_type": "code",
   "execution_count": 1,
   "metadata": {},
   "outputs": [],
   "source": [
    "import numpy as np, plottools as pl, cmb, prjlib, tools_qrec, tools_y, binning as bn, curvedsky as cs, basic\n",
    "from scipy.signal import savgol_filter\n",
    "from matplotlib.pyplot import *\n",
    "from scipy.interpolate import interp1d"
   ]
  },
  {
   "cell_type": "code",
   "execution_count": 2,
   "metadata": {},
   "outputs": [],
   "source": [
    "def obscls(cl,sig,theta,alpha,lmax,ac2rad=np.pi/10800.,Tcmb=2.726e6):\n",
    "    cl[2,:] *= alpha # delensing \n",
    "    l   = np.linspace(0,lmax,lmax+1)\n",
    "    nl  = np.zeros((4,lmax+1))\n",
    "    nl[0,:] = (sig*ac2rad/Tcmb)**2 * np.exp(l*(l+1)*(theta*ac2rad)**2/8./np.log(2.))\n",
    "    nl[1,:] = 2*nl[0,:]\n",
    "    nl[2,:] = 2*nl[0,:]\n",
    "    ocl = cl + nl\n",
    "    ocl[0,3001:] = 1e30 # Tlmax = 3000\n",
    "    return ocl, nl"
   ]
  },
  {
   "cell_type": "code",
   "execution_count": 3,
   "metadata": {},
   "outputs": [],
   "source": [
    "lmax  = 4096       # maximum multipole of output normalization\n",
    "rlmin, rlmax = 100, lmax  # reconstruction multipole range\n",
    "olmax = 2048\n",
    "L = np.linspace(0,olmax,olmax+1)"
   ]
  },
  {
   "cell_type": "code",
   "execution_count": 4,
   "metadata": {},
   "outputs": [],
   "source": [
    "exps = ['S4W','S4D','HD']\n",
    "labs = ['S4-Wide','S4-Deep','HD']\n",
    "colors = ['b','g','r']"
   ]
  },
  {
   "cell_type": "code",
   "execution_count": 5,
   "metadata": {},
   "outputs": [],
   "source": [
    "mb = bn.multipole_binning(10,lmin=1,lmax=2048)\n",
    "s = mb.bc*(mb.bc+1)/2./np.pi"
   ]
  },
  {
   "cell_type": "code",
   "execution_count": 6,
   "metadata": {},
   "outputs": [],
   "source": [
    "fclty = np.load('../data/other/clty_fid_alpha_0.npz')\n",
    "lb    = fclty['l']\n",
    "incl  = fclty['cl']\n",
    "clty  = interp1d(lb, lb*(lb+1)*incl/2/np.pi * 0.5 )  # including scale to 5x10^4K"
   ]
  },
  {
   "cell_type": "code",
   "execution_count": 7,
   "metadata": {},
   "outputs": [],
   "source": [
    "covEB0 = {exp: np.sqrt( np.loadtxt('../data/local/v4.4/covariance_'+exp+'_y-plk.dat').diagonal()[10:] ) for exp in exps}\n",
    "covEB1 = {exp: np.sqrt( np.loadtxt('../data/local/v4.4/covariance_'+exp+'_y-pico.dat').diagonal()[10:] ) for exp in exps}"
   ]
  },
  {
   "cell_type": "code",
   "execution_count": 8,
   "metadata": {},
   "outputs": [
    {
     "name": "stdout",
     "output_type": "stream",
     "text": [
      "1.120303958167324\n",
      "6.84760999102735\n",
      "0.7761468842606107\n",
      "4.863127117154169\n",
      "2.0967349226664953\n",
      "13.044087033331754\n"
     ]
    }
   ],
   "source": [
    "for exp in exps:\n",
    "    print( np.sum((clty(mb.bc)/covEB0[exp]/s)**2)**.5 )\n",
    "    print( np.sum((clty(mb.bc)/covEB1[exp]/s)**2)**.5 )"
   ]
  },
  {
   "cell_type": "code",
   "execution_count": 9,
   "metadata": {},
   "outputs": [],
   "source": [
    "#lb, incl = (np.loadtxt('../data/plk/input/forecast_tt_TH_R5.0_a0.0.dat',usecols=(0,1))).T\n",
    "#ctt = np.concatenate((np.array([0.,0.]),interp1d(lb, incl )(L[2:])))"
   ]
  },
  {
   "cell_type": "code",
   "execution_count": 10,
   "metadata": {},
   "outputs": [],
   "source": [
    "#plot(L[100:2001],clty)\n",
    "#plot(L,ctt*1.7e-6)"
   ]
  },
  {
   "cell_type": "code",
   "execution_count": 11,
   "metadata": {},
   "outputs": [
    {
     "name": "stdout",
     "output_type": "stream",
     "text": [
      "6.84760999102735\n",
      "4.863127117154169\n",
      "13.044087033331754\n"
     ]
    },
    {
     "data": {
      "image/png": "[encoded data removed]",
      "text/plain": [
       "<Figure size 432x288 with 1 Axes>"
      ]
     },
     "metadata": {
      "needs_background": "light"
     },
     "output_type": "display_data"
    }
   ],
   "source": [
    "pl.plot_1dstyle(ylab=r'$L(L+1)C^{\\tau y}_L/2\\pi$',usetex=True,xmin=75,xmax=2000,ymin=5e-12,ymax=1e-10,ylog=True)\n",
    "for j, (exp,lab,c) in enumerate(zip(exps,labs,colors)):\n",
    "    errorbar(mb.bc+20*j-15,clty(mb.bc),yerr=s*covEB1[exp],fmt='o',label='PICO x '+lab,color=c)\n",
    "    print( np.sum((clty(mb.bc)/covEB1[exp]/s)**2)**.5 )\n",
    "plot(L[100:2000],clty(L[100:2000]),color='k',ls='--')\n",
    "legend(loc=3)\n",
    "savefig('fig_forecast_ty.pdf')"
   ]
  },
  {
   "cell_type": "code",
   "execution_count": null,
   "metadata": {},
   "outputs": [],
   "source": []
  }
 ],
 "metadata": {
  "kernelspec": {
   "display_name": "Python 3",
   "language": "python",
   "name": "python3"
  },
  "language_info": {
   "codemirror_mode": {
    "name": "ipython",
    "version": 3
   },
   "file_extension": ".py",
   "mimetype": "text/x-python",
   "name": "python",
   "nbconvert_exporter": "python",
   "pygments_lexer": "ipython3",
   "version": "3.7.2"
  }
 },
 "nbformat": 4,
 "nbformat_minor": 4
}
