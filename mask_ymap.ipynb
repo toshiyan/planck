{
 "cells": [
  {
   "cell_type": "code",
   "execution_count": 1,
   "metadata": {},
   "outputs": [],
   "source": [
    "import numpy as np, healpy as hp, curvedsky, prjlib, plottools as pl, tools_y\n",
    "from matplotlib.pyplot import *\n",
    "%matplotlib inline"
   ]
  },
  {
   "cell_type": "code",
   "execution_count": 2,
   "metadata": {},
   "outputs": [],
   "source": [
    "def show_masks(filename,nmax=5):\n",
    "    Gmap = {}\n",
    "    for n in range(nmax):\n",
    "        Gmap[str(n)] = hp.fitsfunc.read_map(filename,field=n,verbose=False)\n",
    "        print(np.mean(Gmap[str(n)]))\n",
    "    pl.view_maps(Gmap,min=0,max=1)"
   ]
  },
  {
   "cell_type": "code",
   "execution_count": 4,
   "metadata": {},
   "outputs": [],
   "source": [
    "nside = 2048\n",
    "p  = prjlib.init_analysis()\n",
    "cy = tools_y.init_compy(p.ids)"
   ]
  },
  {
   "cell_type": "markdown",
   "metadata": {},
   "source": [
    "### Galactic mask"
   ]
  },
  {
   "cell_type": "code",
   "execution_count": 5,
   "metadata": {},
   "outputs": [
    {
     "name": "stderr",
     "output_type": "stream",
     "text": [
      "/global/homes/t/toshiyan/.conda/envs/loc/lib/python3.7/site-packages/healpy/fitsfunc.py:367: UserWarning: No INDXSCHM keyword in header file : assume IMPLICIT\n",
      "  warnings.warn(\"No INDXSCHM keyword in header file : \" \"assume {}\".format(schm))\n"
     ]
    },
    {
     "name": "stdout",
     "output_type": "stream",
     "text": [
      "0.20479756593704224\n",
      "0.40292394161224365\n",
      "0.600813110669454\n",
      "0.7004634737968445\n",
      "0.8000455101331075\n",
      "map key list: ['0', '1', '2', '3', '4']\n"
     ]
    },
    {
     "data": {
      "application/vnd.jupyter.widget-view+json": {
       "model_id": "61feb179b1e944e7a6567ccaf5cc52d7",
       "version_major": 2,
       "version_minor": 0
      },
      "text/plain": [
       "Tab(children=(Output(), Output(), Output(), Output(), Output()), _titles={'0': '0', '1': '1', '2': '2', '3': '…"
      ]
     },
     "metadata": {},
     "output_type": "display_data"
    }
   ],
   "source": [
    "show_masks(p.fmask_Gfsky,nmax=5)"
   ]
  },
  {
   "cell_type": "markdown",
   "metadata": {},
   "source": [
    "### ymap mask"
   ]
  },
  {
   "cell_type": "code",
   "execution_count": 6,
   "metadata": {},
   "outputs": [
    {
     "name": "stdout",
     "output_type": "stream",
     "text": [
      "0.5995168577297865\n",
      "0.499804867503258\n",
      "0.3989443509380098\n",
      "0.2993510582951348\n",
      "0.7600978414217631\n",
      "map key list: ['0', '1', '2', '3', '4']\n"
     ]
    },
    {
     "data": {
      "application/vnd.jupyter.widget-view+json": {
       "model_id": "6a105e225367413c90f051c21e61b286",
       "version_major": 2,
       "version_minor": 0
      },
      "text/plain": [
       "Tab(children=(Output(), Output(), Output(), Output(), Output()), _titles={'0': '0', '1': '1', '2': '2', '3': '…"
      ]
     },
     "metadata": {},
     "output_type": "display_data"
    }
   ],
   "source": [
    "show_masks(cy.fmask_org,nmax=5)"
   ]
  },
  {
   "cell_type": "code",
   "execution_count": 5,
   "metadata": {},
   "outputs": [
    {
     "name": "stdout",
     "output_type": "stream",
     "text": [
      "0.9659258262890683\n",
      "0.8660254037844387\n"
     ]
    }
   ],
   "source": [
    "ymask = np.zeros((5,12*nside**2))\n",
    "yptsr = Ymask['4']\n",
    "for yn in [0,1,2]:\n",
    "    ymask[yn,:] = yptsr * Ymask[str(yn)]  # add point source mask\n",
    "ymask[3,:] = ymask[0,:]*tools_y.theta_mask(nside,75.)\n",
    "ymask[4,:] = ymask[0,:]*tools_y.theta_mask(nside,60.)"
   ]
  },
  {
   "cell_type": "code",
   "execution_count": null,
   "metadata": {},
   "outputs": [],
   "source": [
    "# output custum binary ymask\n",
    "hp.fitsfunc.write_map(cy.fymask,ymask,overwrite=True) # save"
   ]
  },
  {
   "cell_type": "code",
   "execution_count": 6,
   "metadata": {},
   "outputs": [
    {
     "name": "stdout",
     "output_type": "stream",
     "text": [
      "0.9659258262890683\n",
      "0.8660254037844387\n"
     ]
    }
   ],
   "source": [
    "# apodization\n",
    "def apodize():\n",
    "    aymask = np.zeros((3,12*nside**2))\n",
    "    apmask = curvedsky.utils.apodize(nside,yptsr,0.5)\n",
    "    for n in range(2):\n",
    "        ymask = hp.fitsfunc.read_map(cy.fmask_org,field=n,verbose=False)\n",
    "        aymask[n,:] = apmask * curvedsky.utils.apodize(nside,ymask,1.0)\n",
    "    cmask = tools_y.theta_mask(nside,75.)\n",
    "    acmask = curvedsky.utils.apodize(nside,cmask,1.0)\n",
    "    aymask[3,:] = aymask[0,:] * cmask\n",
    "    cmask = tools_y.theta_mask(nside,60.)\n",
    "    acmask = curvedsky.utils.apodize(nside,cmask,1.0)\n",
    "    aymask[4,:] = aymask[0,:] * cmask\n",
    "    #hp.fitsfunc.write_map(cy.famask,aymask,overwrite=True) # save"
   ]
  },
  {
   "cell_type": "code",
   "execution_count": 7,
   "metadata": {},
   "outputs": [
    {
     "name": "stdout",
     "output_type": "stream",
     "text": [
      "0.28710260263692594\n",
      "0.24515418361443353\n",
      "0.19925557980751515\n",
      "0.2792493100582272\n",
      "0.25561975911475526\n",
      "map key list: ['0', '1', '2', '3', '4']\n"
     ]
    },
    {
     "data": {
      "application/vnd.jupyter.widget-view+json": {
       "model_id": "2f605c400af04d76a6971c7c5c73fc71",
       "version_major": 2,
       "version_minor": 0
      },
      "text/plain": [
       "Tab(children=(Output(), Output(), Output(), Output(), Output()), _titles={'0': '0', '1': '1', '2': '2', '3': '…"
      ]
     },
     "metadata": {},
     "output_type": "display_data"
    }
   ],
   "source": [
    "show_masks(cy.famask,nmax=5)"
   ]
  },
  {
   "cell_type": "code",
   "execution_count": null,
   "metadata": {},
   "outputs": [],
   "source": []
  }
 ],
 "metadata": {
  "kernelspec": {
   "display_name": "py4so",
   "language": "python",
   "name": "py4so"
  },
  "language_info": {
   "codemirror_mode": {
    "name": "ipython",
    "version": 3
   },
   "file_extension": ".py",
   "mimetype": "text/x-python",
   "name": "python",
   "nbconvert_exporter": "python",
   "pygments_lexer": "ipython3",
   "version": "3.7.2"
  }
 },
 "nbformat": 4,
 "nbformat_minor": 4
}
