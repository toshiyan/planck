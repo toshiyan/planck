{
 "cells": [
  {
   "cell_type": "code",
   "execution_count": 1,
   "metadata": {},
   "outputs": [],
   "source": [
    "import numpy as np, healpy as hp, curvedsky, prjlib, plottools as pl\n",
    "from matplotlib.pyplot import *\n",
    "%matplotlib inline"
   ]
  },
  {
   "cell_type": "code",
   "execution_count": 2,
   "metadata": {},
   "outputs": [],
   "source": [
    "pL  = prjlib.init_analysis(wtype='Lmask')\n",
    "pG  = prjlib.init_analysis(wtype='G60')\n",
    "pGL = prjlib.init_analysis(wtype='G60Lmask')\n",
    "nside = 2048\n",
    "p  = prjlib.init_analysis()\n",
    "cy = prjlib.init_compy(p.ids)"
   ]
  },
  {
   "cell_type": "markdown",
   "metadata": {},
   "source": [
    "### Galactic mask"
   ]
  },
  {
   "cell_type": "code",
   "execution_count": 3,
   "metadata": {},
   "outputs": [
    {
     "name": "stderr",
     "output_type": "stream",
     "text": [
      "/global/homes/t/toshiyan/.conda/envs/loc/lib/python3.7/site-packages/healpy/fitsfunc.py:367: UserWarning: No INDXSCHM keyword in header file : assume IMPLICIT\n",
      "  warnings.warn(\"No INDXSCHM keyword in header file : \" \"assume {}\".format(schm))\n"
     ]
    },
    {
     "name": "stdout",
     "output_type": "stream",
     "text": [
      "0.20479756593704224\n",
      "0.40292394161224365\n",
      "0.600813110669454\n",
      "0.7004634737968445\n",
      "0.8000455101331075\n",
      "map key list: ['0', '1', '2', '3', '4']\n"
     ]
    },
    {
     "data": {
      "application/vnd.jupyter.widget-view+json": {
       "model_id": "2b650ab7c8fc447aa8a24d903cd421db",
       "version_major": 2,
       "version_minor": 0
      },
      "text/plain": [
       "Tab(children=(Output(), Output(), Output(), Output(), Output()), _titles={'0': '0', '1': '1', '2': '2', '3': '…"
      ]
     },
     "metadata": {},
     "output_type": "display_data"
    }
   ],
   "source": [
    "Gmap = {}\n",
    "for n in range(5):\n",
    "    Gmap[str(n)] = hp.fitsfunc.read_map(p.fmask_Gfsky,field=n,verbose=False)\n",
    "    print(np.mean(Gmap[str(n)]))\n",
    "pl.view_maps(Gmap,min=0,max=1)"
   ]
  },
  {
   "cell_type": "markdown",
   "metadata": {},
   "source": [
    "### ymap mask"
   ]
  },
  {
   "cell_type": "code",
   "execution_count": 4,
   "metadata": {},
   "outputs": [
    {
     "name": "stdout",
     "output_type": "stream",
     "text": [
      "0.5995168577297865\n",
      "0.499804867503258\n",
      "0.3989443509380098\n",
      "0.2993510582951348\n",
      "0.7600978414217631\n",
      "map key list: ['0', '1', '2', '3', '4']\n"
     ]
    },
    {
     "data": {
      "application/vnd.jupyter.widget-view+json": {
       "model_id": "ee8292bbad924e2ea10f2a07a4a864f5",
       "version_major": 2,
       "version_minor": 0
      },
      "text/plain": [
       "Tab(children=(Output(), Output(), Output(), Output(), Output()), _titles={'0': '0', '1': '1', '2': '2', '3': '…"
      ]
     },
     "metadata": {},
     "output_type": "display_data"
    }
   ],
   "source": [
    "Gmap = {}\n",
    "for n in range(5):\n",
    "    Gmap[str(n)] = hp.fitsfunc.read_map(cy.fymask_org,field=n,verbose=False)\n",
    "    print(np.mean(Gmap[str(n)]))\n",
    "pl.view_maps(Gmap,min=0,max=1)"
   ]
  },
  {
   "cell_type": "code",
   "execution_count": 5,
   "metadata": {},
   "outputs": [
    {
     "name": "stdout",
     "output_type": "stream",
     "text": [
      "0.9659258262890683\n",
      "0.8660254037844387\n"
     ]
    }
   ],
   "source": [
    "ymask = np.zeros((5,12*nside**2))\n",
    "yptsr = hp.fitsfunc.read_map(cy.fymask_org,field=4,verbose=False)\n",
    "for yn in [0,1,2]:\n",
    "    ymask[yn,:] = hp.fitsfunc.read_map(cy.fymask_org,field=yn,verbose=False)\n",
    "    ymask[yn,:] *= yptsr\n",
    "ymask[3,:] = ymask[0,:]*prjlib.theta_mask(nside,75.)\n",
    "ymask[4,:] = ymask[0,:]*prjlib.theta_mask(nside,60.)\n",
    "#hp.fitsfunc.write_map(cy.fymask,ymask,overwrite=True) # save"
   ]
  },
  {
   "cell_type": "code",
   "execution_count": 6,
   "metadata": {},
   "outputs": [
    {
     "name": "stdout",
     "output_type": "stream",
     "text": [
      "0.9659258262890683\n",
      "0.8660254037844387\n"
     ]
    }
   ],
   "source": [
    "aymask = np.zeros((5,12*nside**2))\n",
    "# apodization\n",
    "apmask = curvedsky.utils.apodize(nside,yptsr,0.5)\n",
    "for n in range(3):\n",
    "    ymask = hp.fitsfunc.read_map(cy.fymask_org,field=n,verbose=False)\n",
    "    aymask[n,:] = curvedsky.utils.apodize(nside,ymask,1.0)\n",
    "    aymask[n,:] *= apmask\n",
    "cmask = prjlib.theta_mask(nside,75.)\n",
    "acmask = curvedsky.utils.apodize(nside,cmask,1.0)\n",
    "aymask[3,:] = aymask[0,:] * cmask\n",
    "cmask = prjlib.theta_mask(nside,60.)\n",
    "acmask = curvedsky.utils.apodize(nside,cmask,1.0)\n",
    "aymask[4,:] = aymask[0,:] * cmask\n",
    "hp.fitsfunc.write_map(cy.faymask,aymask,overwrite=True) # save"
   ]
  },
  {
   "cell_type": "code",
   "execution_count": 8,
   "metadata": {},
   "outputs": [
    {
     "name": "stdout",
     "output_type": "stream",
     "text": [
      "0.28710260263102017\n",
      "0.24515418361109395\n",
      "0.19925557980500397\n",
      "0.2792493100524365\n",
      "0.25561975910913715\n",
      "map key list: ['0', '1', '2', '3', '4']\n"
     ]
    },
    {
     "data": {
      "application/vnd.jupyter.widget-view+json": {
       "model_id": "db4902f5b1364072b24fbb09acd891a6",
       "version_major": 2,
       "version_minor": 0
      },
      "text/plain": [
       "Tab(children=(Output(), Output(), Output(), Output(), Output()), _titles={'0': '0', '1': '1', '2': '2', '3': '…"
      ]
     },
     "metadata": {},
     "output_type": "display_data"
    }
   ],
   "source": [
    "Gmap = {}\n",
    "for n in range(5):\n",
    "    Gmap[str(n)] = aymask[n,:]\n",
    "    print(np.mean(aymask[n,:]))\n",
    "pl.view_maps(Gmap,min=0,max=1)"
   ]
  },
  {
   "cell_type": "code",
   "execution_count": null,
   "metadata": {},
   "outputs": [],
   "source": []
  }
 ],
 "metadata": {
  "kernelspec": {
   "display_name": "py4so",
   "language": "python",
   "name": "py4so"
  },
  "language_info": {
   "codemirror_mode": {
    "name": "ipython",
    "version": 3
   },
   "file_extension": ".py",
   "mimetype": "text/x-python",
   "name": "python",
   "nbconvert_exporter": "python",
   "pygments_lexer": "ipython3",
   "version": "3.7.2"
  }
 },
 "nbformat": 4,
 "nbformat_minor": 4
}
