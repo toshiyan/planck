{
 "cells": [
  {
   "cell_type": "code",
   "execution_count": 1,
   "metadata": {},
   "outputs": [],
   "source": [
    "import numpy as np, plottools as pl, cmb, prjlib, tools_qrec, tools_y, binning as bn, curvedsky as cs, basic\n",
    "from scipy.signal import savgol_filter\n",
    "from matplotlib.pyplot import *\n",
    "from scipy.interpolate import interp1d"
   ]
  },
  {
   "cell_type": "code",
   "execution_count": 2,
   "metadata": {},
   "outputs": [],
   "source": [
    "def obscls(cl,sig,theta,alpha,lmax,ac2rad=np.pi/10800.,Tcmb=2.726e6):\n",
    "    cl[2,:] *= alpha # delensing \n",
    "    l   = np.linspace(0,lmax,lmax+1)\n",
    "    nl  = np.zeros((4,lmax+1))\n",
    "    nl[0,:] = (sig*ac2rad/Tcmb)**2 * np.exp(l*(l+1)*(theta*ac2rad)**2/8./np.log(2.))\n",
    "    nl[1,:] = 2*nl[0,:]\n",
    "    nl[2,:] = 2*nl[0,:]\n",
    "    ocl = cl + nl\n",
    "    ocl[0,3001:] = 1e30 # Tlmax = 3000\n",
    "    return ocl, nl"
   ]
  },
  {
   "cell_type": "code",
   "execution_count": 3,
   "metadata": {},
   "outputs": [],
   "source": [
    "def covariance(cb,num):\n",
    "    cov = np.zeros((2*num,2*num))\n",
    "    for b in range(2*num):\n",
    "        cov[b,b] = cb[b]**2\n",
    "    return cov"
   ]
  },
  {
   "cell_type": "code",
   "execution_count": 4,
   "metadata": {},
   "outputs": [],
   "source": [
    "lmax  = 4096       # maximum multipole of output normalization\n",
    "rlmin, rlmax = 100, lmax  # reconstruction multipole range\n",
    "olmax = 2048\n",
    "L = np.linspace(0,olmax,olmax+1)\n",
    "#l = np.linspace(0,lmax,lmax+1)\n",
    "gnu = cmb.T2y(150.)"
   ]
  },
  {
   "cell_type": "code",
   "execution_count": 5,
   "metadata": {},
   "outputs": [],
   "source": [
    "aobj = prjlib.init_analysis(fltr='cinv')\n",
    "qtau, __, __, qtbh, qtBH = tools_qrec.init_quad(aobj.ids,aobj.stag,rlmin=100,rlmax=2048)\n",
    "cy = tools_y.init_compy(aobj.ids,ascale=1.)"
   ]
  },
  {
   "cell_type": "code",
   "execution_count": 6,
   "metadata": {},
   "outputs": [],
   "source": [
    "lb, incl = (np.loadtxt('../data/plk/input/forecast_tt_TH_R5.0_a0.0.dat',usecols=(0,1))).T\n",
    "ctt = np.concatenate((np.array([0.,0.]),interp1d(lb, incl )(L[2:])))\n",
    "cty = 1.7e-6*ctt"
   ]
  },
  {
   "cell_type": "code",
   "execution_count": 7,
   "metadata": {},
   "outputs": [],
   "source": [
    "yy = {}\n",
    "yy['plk'] = savgol_filter( (np.loadtxt(cy.fclyy)).T[1], 51, 3)\n",
    "bl, y0 = np.loadtxt('../data/other/yy.dat',unpack=True)\n",
    "yy['pico'] = interp1d(bl, savgol_filter( y0, 15, 13) )(L[2:]) * 2*np.pi/(L[2:]**2+L[2:]+.001)/2.72e6**2/gnu**2\n",
    "yy['pico'] = np.concatenate((np.array([1e30,1e30]),yy['pico']))"
   ]
  },
  {
   "cell_type": "code",
   "execution_count": 8,
   "metadata": {},
   "outputs": [
    {
     "data": {
      "text/plain": [
       "[<matplotlib.lines.Line2D at 0x2aaaea15eac8>]"
      ]
     },
     "execution_count": 8,
     "metadata": {},
     "output_type": "execute_result"
    },
    {
     "data": {
      "image/png": "[encoded data removed]",
      "text/plain": [
       "<Figure size 432x288 with 1 Axes>"
      ]
     },
     "metadata": {
      "needs_background": "light"
     },
     "output_type": "display_data"
    }
   ],
   "source": [
    "ylim(1e-20,1e-15)\n",
    "yscale('log')\n",
    "xscale('log')\n",
    "plot(L,yy['pico'])\n",
    "plot(bl,y0*2*np.pi/(bl**2+bl+.001)/2.72e6**2/gnu**2)"
   ]
  },
  {
   "cell_type": "code",
   "execution_count": 9,
   "metadata": {},
   "outputs": [],
   "source": [
    "exps = ['S4W','S4D','HD']\n",
    "sigma = {'S4W':1.,'S4D':.3,'HD':.5} # uK-ac in temperature\n",
    "alpha = {'S4W':.2,'S4D':.07,'HD':.1}\n",
    "theta = {'S4W':2.,'S4D':2.,'HD':.2}\n",
    "fsky = {'S4W':.4,'S4D':.04,'HD':.5}\n",
    "labs = ['S4-Wide','S4-Deep','HD']\n",
    "colors = ['b','g','r']"
   ]
  },
  {
   "cell_type": "code",
   "execution_count": 10,
   "metadata": {},
   "outputs": [],
   "source": [
    "lcl = cmb.read_camb_cls(aobj.simcl,ftype='lens',output='array')[:,:lmax+1]\n",
    "ucl = cmb.read_camb_cls(aobj.simul,ftype='scal',output='array')[:,:lmax+1]\n",
    "ocl = {exp: obscls(lcl,sigma[exp],theta[exp],alpha[exp],lmax)[0] for exp in exps}\n",
    "ncl = {exp: obscls(lcl,sigma[exp],theta[exp],alpha[exp],lmax)[1] for exp in exps}\n",
    "#for i in range(3):  ncl['S4D'][i,:] = ncl['S4D'][i,:]*ncl['S4W'][i,:] / ( ncl['S4W'][i,:] + ncl['S4D'][i,:] )\n",
    "#ocl['S4D'] = lcl + ncl['S4D']\n",
    "#ocl['S4D'][0,3001:] = 1e30 # Tlmax = 3000"
   ]
  },
  {
   "cell_type": "code",
   "execution_count": 11,
   "metadata": {},
   "outputs": [
    {
     "data": {
      "text/plain": [
       "\"\\nOCL = {exp: obscls(lcl,sigma[exp],theta[exp],1.,lmax)[0] for exp in ['HD']}\\ndlmin, dlmax = 2, 4096\\nWE = np.ones((dlmax+1))\\nbb = basic.delens.lensingbb(dlmax, dlmin, dlmax, lcl[1,:dlmax+1], ucl[3,:dlmax+1])\\nrbb = {}\\nfor exp in ['HD']:\\n    Ag, __ = cs.norm_lens.qeb_iter(lmax,rlmax,rlmin,rlmax,rlmin,rlmax,lcl[1,:],OCL[exp][1,:],OCL[exp][2,:],ucl[3,:],iter=10)\\n    Wp = ucl[3,:]/(ucl[3,:]+Ag)\\n    rbb[exp] = basic.delens.resbb(dlmax, dlmin, dlmax, lcl[1,:dlmax+1], ucl[3,:dlmax+1], WE, Wp[:dlmax+1])\\nylim(0,1)\\nfor exp in ['HD']:\\n    plot(rbb[exp]/bb)\\n    plot((OCL[exp][2,:]-bb+rbb[exp])/bb)\\n\""
      ]
     },
     "execution_count": 11,
     "metadata": {},
     "output_type": "execute_result"
    }
   ],
   "source": [
    "# check delensing efficiency alpha\n",
    "'''\n",
    "OCL = {exp: obscls(lcl,sigma[exp],theta[exp],1.,lmax)[0] for exp in ['HD']}\n",
    "dlmin, dlmax = 2, 4096\n",
    "WE = np.ones((dlmax+1))\n",
    "bb = basic.delens.lensingbb(dlmax, dlmin, dlmax, lcl[1,:dlmax+1], ucl[3,:dlmax+1])\n",
    "rbb = {}\n",
    "for exp in ['HD']:\n",
    "    Ag, __ = cs.norm_lens.qeb_iter(lmax,rlmax,rlmin,rlmax,rlmin,rlmax,lcl[1,:],OCL[exp][1,:],OCL[exp][2,:],ucl[3,:],iter=10)\n",
    "    Wp = ucl[3,:]/(ucl[3,:]+Ag)\n",
    "    rbb[exp] = basic.delens.resbb(dlmax, dlmin, dlmax, lcl[1,:dlmax+1], ucl[3,:dlmax+1], WE, Wp[:dlmax+1])\n",
    "ylim(0,1)\n",
    "for exp in ['HD']:\n",
    "    plot(rbb[exp]/bb)\n",
    "    plot((OCL[exp][2,:]-bb+rbb[exp])/bb)\n",
    "'''"
   ]
  },
  {
   "cell_type": "code",
   "execution_count": 23,
   "metadata": {},
   "outputs": [],
   "source": [
    "AlTT = {exp: cs.norm_quad.qtt('amp',olmax,rlmin,rlmax,lcl[0,:],ocl[exp][0,:])[0] for exp in exps}\n",
    "AlEB = {exp: cs.norm_quad.qeb('amp',olmax,rlmin,rlmax,lcl[1,:],ocl[exp][1,:],ocl[exp][2,:])[0] for exp in exps}\n",
    "#AlEB = {exp: cs.norm_tau.qeb(olmax,rlmin,rlmax,lcl[1,:],ocl[exp][1,:],ocl[exp][2,:]-lcl[2,:]+rbb[exp]) for exp in exps}"
   ]
  },
  {
   "cell_type": "code",
   "execution_count": 25,
   "metadata": {},
   "outputs": [
    {
     "data": {
      "text/plain": [
       "<matplotlib.legend.Legend at 0x2aaaecb697b8>"
      ]
     },
     "execution_count": 25,
     "metadata": {},
     "output_type": "execute_result"
    },
    {
     "data": {
      "image/png": "[encoded data removed]",
      "text/plain": [
       "<Figure size 432x288 with 1 Axes>"
      ]
     },
     "metadata": {
      "needs_background": "light"
     },
     "output_type": "display_data"
    }
   ],
   "source": [
    "pl.plot_1dstyle(ylog=True,ymin=1e-10,ymax=1e-4)\n",
    "for exp in exps:\n",
    "    plot(L,AlTT[exp],label=exp+',TT')\n",
    "    plot(L,AlEB[exp],label=exp+',EB')\n",
    "plot(L,ctt,color='k',ls='--',label=r'$C_L$')\n",
    "legend()"
   ]
  },
  {
   "cell_type": "code",
   "execution_count": null,
   "metadata": {},
   "outputs": [],
   "source": [
    "# cross correlation coefficient\n",
    "pl.plot_1dstyle(ylog=True,ymin=1e-5,ymax=1)\n",
    "for exp in exps:\n",
    "    plot(L,2*np.pi*1e-11/(L**2+L+1e-30)/(np.sqrt(AlEB[exp]*yy['pico'])+1e-30))"
   ]
  },
  {
   "cell_type": "code",
   "execution_count": null,
   "metadata": {},
   "outputs": [],
   "source": [
    "mb = bn.multipole_binning(10,lmin=1,lmax=2048)"
   ]
  },
  {
   "cell_type": "code",
   "execution_count": null,
   "metadata": {},
   "outputs": [],
   "source": [
    "cttb = bn.binning(ctt*L*(L+1)/2/np.pi,mb)\n",
    "ctyb = bn.binning(cty*L*(L+1)/2/np.pi,mb)"
   ]
  },
  {
   "cell_type": "code",
   "execution_count": null,
   "metadata": {},
   "outputs": [],
   "source": [
    "ttTT = {exp: bn.binning_opt_weight( AlTT[exp]/np.sqrt(fsky[exp]*(qtau.l+.5)), mb ) for exp in exps}\n",
    "ttEB = {exp: bn.binning_opt_weight( AlEB[exp]/np.sqrt(fsky[exp]*(qtau.l+.5)), mb ) for exp in exps}"
   ]
  },
  {
   "cell_type": "code",
   "execution_count": null,
   "metadata": {},
   "outputs": [],
   "source": [
    "pl.plot_1dstyle(ylab=r'$L(L+1)C^{\\delta\\tau\\delta\\tau}_L/2\\pi$',usetex=True,ymin=5e-6,ymax=5e-5,ylog=True)\n",
    "s = mb.bc*(mb.bc+1)/2./np.pi\n",
    "for i, (exp,lab) in enumerate(zip(exps,labs)):\n",
    "    #plot(mb.bc,ttTT[exp],label=exp+',TT')\n",
    "    errorbar(mb.bc+10*i-10,cttb,yerr=s*ttEB[exp],fmt='o',label=lab)\n",
    "plot(L,L*(L+1)*ctt/2/np.pi,color='k',ls='--')\n",
    "legend()"
   ]
  },
  {
   "cell_type": "code",
   "execution_count": null,
   "metadata": {},
   "outputs": [],
   "source": [
    "plot(ttEB['S4W']/ttEB['S4D'])"
   ]
  },
  {
   "cell_type": "code",
   "execution_count": null,
   "metadata": {},
   "outputs": [],
   "source": [
    "#tyTT = {exp: bn.binning_opt_weight( np.sqrt(AlTT[exp]*yy[expy])/np.sqrt(2*fsky[exp]*(qtau.l+.5)), mb ) for exp in exps}\n",
    "expys = ['plk','pico']\n",
    "tyEB = {expy : {exp: bn.binning_opt_weight( np.sqrt(AlEB[exp]*yy[expy])/np.sqrt(2*fsky[exp]*(qtau.l+.5)), mb ) for exp in exps} for expy in expys }"
   ]
  },
  {
   "cell_type": "code",
   "execution_count": null,
   "metadata": {},
   "outputs": [],
   "source": [
    "pl.plot_1dstyle(ylab=r'$L(L+1)C^{\\delta\\tau y}_L/2\\pi$',usetex=True,ymin=5e-12,ymax=1e-10,ylog=True)\n",
    "s = mb.bc*(mb.bc+1)/2./np.pi\n",
    "for j, (exp,lab,c) in enumerate(zip(exps,labs,colors)):\n",
    "    errorbar(mb.bc+20*j-20,ctyb,yerr=s*tyEB['pico'][exp],fmt='o',label='PICO x '+lab,color=c)\n",
    "plot(L,cty*L*(L+1)/2/np.pi,color='k',ls='--')\n",
    "legend()\n",
    "savefig('fig_forecast_ty.pdf')"
   ]
  },
  {
   "cell_type": "code",
   "execution_count": null,
   "metadata": {},
   "outputs": [],
   "source": [
    "#cbTT = {exp: np.concatenate((ttTT[exp],tyTT[exp])) for exp in exps}\n",
    "cbEB = {expy: {exp: np.concatenate((ttEB[exp],tyEB[expy][exp])) for exp in exps} for expy in expys}"
   ]
  },
  {
   "cell_type": "code",
   "execution_count": null,
   "metadata": {},
   "outputs": [],
   "source": [
    "#covTT = {exp: covariance(cbTT[exp],mb.n) for exp in exps}\n",
    "covEB = {expy: {exp: covariance(cbEB[expy][exp],mb.n) for exp in exps} for expy in expys}"
   ]
  },
  {
   "cell_type": "code",
   "execution_count": null,
   "metadata": {},
   "outputs": [],
   "source": [
    "#print(covEB['plk']['S4W'].diagonal())\n",
    "#cov0 = np.loadtxt('../v3.1/covariance_dr2_smica_Lmask_nilc_G60_bh-lens-src.dat')\n",
    "#print(cov0.diagonal())"
   ]
  },
  {
   "cell_type": "code",
   "execution_count": null,
   "metadata": {},
   "outputs": [],
   "source": [
    "#for expy in expys:\n",
    "#    for exp in exps:\n",
    "#        np.savetxt('../v4.3/covariance_'+exp+'_y-'+expy+'.dat',covEB[expy][exp])"
   ]
  },
  {
   "cell_type": "code",
   "execution_count": null,
   "metadata": {},
   "outputs": [],
   "source": []
  }
 ],
 "metadata": {
  "kernelspec": {
   "display_name": "Python 3",
   "language": "python",
   "name": "python3"
  },
  "language_info": {
   "codemirror_mode": {
    "name": "ipython",
    "version": 3
   },
   "file_extension": ".py",
   "mimetype": "text/x-python",
   "name": "python",
   "nbconvert_exporter": "python",
   "pygments_lexer": "ipython3",
   "version": "3.7.2"
  }
 },
 "nbformat": 4,
 "nbformat_minor": 4
}
