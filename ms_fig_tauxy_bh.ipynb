{
 "cells": [
  {
   "cell_type": "code",
   "execution_count": 1,
   "metadata": {},
   "outputs": [],
   "source": [
    "import numpy as np, curvedsky, prjlib, plottools as pl, tools_y, binning as bn, tools_qrec, pickle, analysis as ana\n",
    "from scipy.signal import savgol_filter\n",
    "from matplotlib.pyplot import *"
   ]
  },
  {
   "cell_type": "code",
   "execution_count": 2,
   "metadata": {},
   "outputs": [],
   "source": [
    "from matplotlib import rc\n",
    "rc('text', usetex=True)"
   ]
  },
  {
   "cell_type": "code",
   "execution_count": 3,
   "metadata": {},
   "outputs": [],
   "source": [
    "fltr='cinv'\n",
    "ytype='nilc'\n",
    "mtype=0\n",
    "dtype='dr2_smica'\n",
    "cmask='Lmask'\n",
    "form='{:.2f}'\n",
    "mb = bn.multipole_binning(10,lmin=1,lmax=2048)\n",
    "p = prjlib.init_analysis(dtype=dtype,fltr=fltr,wtype=cmask)\n",
    "qobj = {}\n",
    "qobj['normal'], __, __, qobj['lens'], qobj['lens-src'] = tools_qrec.init_quad(p.ids,p.stag,rlmin=100,rlmax=2048)\n",
    "cy = tools_y.init_compy(p.ids,masktype=mtype,ytype=ytype,ascale=1.0)"
   ]
  },
  {
   "cell_type": "code",
   "execution_count": 4,
   "metadata": {},
   "outputs": [
    {
     "name": "stdout",
     "output_type": "stream",
     "text": [
      "chi: -2.9 , chi (sim mean): 0.0 , chi (sim std): 3.6 , PTE: 0.34 (nilc,0)\n",
      "chi^2: 14.8 , chi^2 (sim): 11.2 , PTE: 0.19 (nilc,0)\n"
     ]
    },
    {
     "data": {
      "image/png": "[encoded data removed]",
      "text/plain": [
       "<Figure size 432x288 with 1 Axes>"
      ]
     },
     "metadata": {
      "needs_background": "light"
     },
     "output_type": "display_data"
    }
   ],
   "source": [
    "pl.plot_1dstyle(ymin=-1.2,ymax=1.2,ylab=r'$10^{10}\\times LC_L^{\\tau y}$',usetex=True,yticks=[-1.,-.5,0.,.5,1.],yticks_labsize=12,xticks_labsize=12)\n",
    "s = 1e10*mb.bc\n",
    "for i, (bh, Lab, co, alpha) in enumerate([('lens',r'baseline (lens-hardening)','r',1.),('normal',r'no bias-hardening','grey',.5),('lens-src',r'lens \\& source-hardening','g',.5)]):\n",
    "    al = (np.loadtxt(qobj[bh].f['TT'].al)).T[1]\n",
    "    yy = savgol_filter( (np.loadtxt(cy.fclyy)).T[1], 51, 3)\n",
    "    vl = np.sqrt(al*yy)/np.sqrt(qobj[bh].l+1e-30)\n",
    "    fx = tools_y.init_cross(qobj[bh],cy,p.ids,p.stag)\n",
    "    mcb, vcb, scb, ocb = bn.binned_spec(mb,fx.xl,cn=1,opt=True,vl=vl)\n",
    "    errorbar(mb.bc+i*10-10,s*ocb,yerr=s*vcb,fmt='o',color=co,alpha=alpha,label=Lab)\n",
    "axhline(0.,color='k',ls='--')\n",
    "st = ana.PTEs(ocb,scb,comment=ytype+','+str(mtype),x1pte=True)\n",
    "#figtext(.2,.20,r'ymap:'+ytype+','+str(mtype))\n",
    "#figtext(.2,.25,r'tau:'+dtype+','+str(cmask))\n",
    "#figtext(.2,.35,r'$\\chi$-PTE:'+str(form.format(st.px1)))\n",
    "#figtext(.2,.30,r'$\\chi^2$-PTE:'+str(form.format(st.px2)))\n",
    "legend(loc=3)\n",
    "savefig('fig_tauxy_BH.pdf')\n",
    "#savefig('fig_tauxy_BH.png')\n",
    "show()"
   ]
  },
  {
   "cell_type": "code",
   "execution_count": 7,
   "metadata": {},
   "outputs": [
    {
     "name": "stdout",
     "output_type": "stream",
     "text": [
      "chi: -0.4 , chi (sim mean): 0.0 , chi (sim std): 4.0 , PTE: 0.84 \n",
      "chi^2: 35.6 , chi^2 (sim): 11.6 , PTE: 0.00 \n",
      "chi: -4.4 , chi (sim mean): 0.0 , chi (sim std): 3.7 , PTE: 0.21 \n",
      "chi^2: 16.0 , chi^2 (sim): 11.6 , PTE: 0.26 \n",
      "chi: -7.0 , chi (sim mean): 0.0 , chi (sim std): 3.6 , PTE: 0.11 \n",
      "chi^2: 20.8 , chi^2 (sim): 11.6 , PTE: 0.07 \n"
     ]
    },
    {
     "data": {
      "image/png": "[encoded data removed]",
      "text/plain": [
       "<Figure size 432x288 with 1 Axes>"
      ]
     },
     "metadata": {
      "needs_background": "light"
     },
     "output_type": "display_data"
    }
   ],
   "source": [
    "s = 1e5*mb.bc\n",
    "pl.plot_1dstyle(ymin=-1,ymax=1,ylab=r'$10^5 LC_L^{\\tau\\tau}$',usetex=True,yticks=[-1.,-.5,0.,.5,1.],yticks_labsize=12,xticks_labsize=12)\n",
    "for i, (bh, Lab, co, alpha) in enumerate([('normal',r'Normal','grey',.5),('lens',r'Lens-Hardening','g',.5),('lens-src',r'Lens-Source-Hardening','r',1.)]):\n",
    "    al = (np.loadtxt(qobj[bh].f['TT'].al)).T[1]\n",
    "    vl = al/np.sqrt(qobj[bh].l+1e-30)\n",
    "    mtt, __, stt, ott = bn.binned_spec(mb,qobj[bh].f['TT'].cl[:77],cn=1,doreal=True,opt=True,vl=vl)\n",
    "    n0 = (np.loadtxt(qobj[bh].f['TT'].n0bs)).T[1]\n",
    "    nb = bn.binning(n0,mb,vl=vl)\n",
    "    rd = np.array( [ (np.loadtxt(qobj[bh].f['TT'].rdn0[i])).T[1] for i in p.rlz[:77] ] )\n",
    "    rb = bn.binning(rd,mb,vl=vl)\n",
    "    # debias\n",
    "    ott = ott - rb[0] - nb/(qobj[bh].mfsim)\n",
    "    mtt = mtt - np.mean(rb[1:,:],axis=0) - nb/(qobj[bh].mfsim-1)\n",
    "    ott = ott - mtt # subtract average of sim\n",
    "    stt = stt - rb[1:,:] - nb/(qobj[bh].mfsim-1)\n",
    "    vtt = np.std(stt,axis=0)\n",
    "    st = ana.PTEs(ott,stt-mtt,x1pte=True)\n",
    "    errorbar(mb.bc+i*10-10,s*ott,yerr=s*vtt,fmt='o',color=co,alpha=alpha,label=Lab)\n",
    "axhline(0.,color='k',ls='--')\n",
    "savefig('fig_tauxtau_BH.png')"
   ]
  },
  {
   "cell_type": "code",
   "execution_count": null,
   "metadata": {},
   "outputs": [],
   "source": []
  }
 ],
 "metadata": {
  "kernelspec": {
   "display_name": "py4so",
   "language": "python",
   "name": "py4so"
  },
  "language_info": {
   "codemirror_mode": {
    "name": "ipython",
    "version": 3
   },
   "file_extension": ".py",
   "mimetype": "text/x-python",
   "name": "python",
   "nbconvert_exporter": "python",
   "pygments_lexer": "ipython3",
   "version": "3.7.2"
  }
 },
 "nbformat": 4,
 "nbformat_minor": 4
}
