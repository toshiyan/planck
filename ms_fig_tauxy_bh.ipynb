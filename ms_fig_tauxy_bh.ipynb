{
 "cells": [
  {
   "cell_type": "code",
   "execution_count": 1,
   "metadata": {},
   "outputs": [],
   "source": [
    "import numpy as np, curvedsky, prjlib, plottools as pl, tools_y, binning as bn, tools_qrec, pickle, analysis as ana\n",
    "from matplotlib.pyplot import *"
   ]
  },
  {
   "cell_type": "code",
   "execution_count": 2,
   "metadata": {},
   "outputs": [],
   "source": [
    "from matplotlib import rc\n",
    "rc('text', usetex=True)"
   ]
  },
  {
   "cell_type": "code",
   "execution_count": 3,
   "metadata": {},
   "outputs": [],
   "source": [
    "fltr='cinv'\n",
    "ytype='nilc'\n",
    "mtype=0\n",
    "dtype='dr2_smica'\n",
    "cmask='Lmask'\n",
    "form='{:.2f}'\n",
    "mb = bn.multipole_binning(10,lmin=1,lmax=2048)\n",
    "s = 1e8*mb.bc**2/2/np.pi\n",
    "p = prjlib.init_analysis(dtype=dtype,fltr=fltr,wtype=cmask)\n",
    "qtau, qlen, qsrc, qtbh, qtBH = tools_qrec.init_quad(p.ids,p.stag,rlmin=100,rlmax=2048)\n",
    "cy = tools_y.init_compy(p.ids,masktype=mtype,ytype=ytype,ascale=1.0)\n",
    "fxtau = tools_y.init_cross(qtau,cy,p.ids,p.stag,est='')\n",
    "fxtbh = tools_y.init_cross(qtbh,cy,p.ids,p.stag,est='bh-lens')\n",
    "fxtBH = tools_y.init_cross(qtBH,cy,p.ids,p.stag,est='bh-lens-src')"
   ]
  },
  {
   "cell_type": "code",
   "execution_count": 4,
   "metadata": {},
   "outputs": [
    {
     "name": "stdout",
     "output_type": "stream",
     "text": [
      "chi: -1.3 , chi (sim): 0.0 , PTE: 0.64 (nilc,0)\n",
      "chi^2: 14.8 , chi^2 (sim): 11.1 , PTE: 0.20 (nilc,0)\n"
     ]
    },
    {
     "data": {
      "image/png": "[encoded data removed]",
      "text/plain": [
       "<Figure size 432x288 with 1 Axes>"
      ]
     },
     "metadata": {
      "needs_background": "light"
     },
     "output_type": "display_data"
    }
   ],
   "source": [
    "pl.plot_1dstyle(ymin=-1,ymax=1,ylab=r'$10^8\\times L(L+1)C_L^{\\tau y}/2\\pi$',usetex=True,yticks=[-1.,-.5,0.,.5,1.],yticks_labsize=12,xticks_labsize=12)\n",
    "for i, (xobj, Lab, co, alpha) in enumerate([(fxtau,r'Normal','b',.5),(fxtbh,r'Lens-Hardening','g',.5),(fxtBH,r'Lens-Source-Hardening','r',1.)]):\n",
    "    mcb, vcb, scb, ocb = bn.binned_spec(mb,xobj.xl,cn=1)\n",
    "    errorbar(mb.bc+i*10-10,s*ocb,yerr=s*vcb,fmt='o',color=co,alpha=alpha,label=Lab)\n",
    "axhline(0.,color='k',ls='--')\n",
    "st = ana.PTEs(ocb,scb,comment=ytype+','+str(mtype),x1pte=True)\n",
    "#figtext(.2,.20,r'ymap:'+ytype+','+str(mtype))\n",
    "#figtext(.2,.25,r'tau:'+dtype+','+str(cmask))\n",
    "#figtext(.2,.35,r'$\\chi$-PTE:'+str(form.format(st.px1)))\n",
    "#figtext(.2,.30,r'$\\chi^2$-PTE:'+str(form.format(st.px2)))\n",
    "legend(loc=3)\n",
    "#savefig('fig_tauxy_BH.pdf')\n",
    "#savefig('fig_tauxy_BH.png')\n",
    "show()"
   ]
  },
  {
   "cell_type": "code",
   "execution_count": null,
   "metadata": {},
   "outputs": [],
   "source": []
  }
 ],
 "metadata": {
  "kernelspec": {
   "display_name": "py4so",
   "language": "python",
   "name": "py4so"
  },
  "language_info": {
   "codemirror_mode": {
    "name": "ipython",
    "version": 3
   },
   "file_extension": ".py",
   "mimetype": "text/x-python",
   "name": "python",
   "nbconvert_exporter": "python",
   "pygments_lexer": "ipython3",
   "version": "3.7.2"
  }
 },
 "nbformat": 4,
 "nbformat_minor": 4
}
