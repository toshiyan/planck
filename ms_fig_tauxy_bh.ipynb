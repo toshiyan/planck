{
 "cells": [
  {
   "cell_type": "code",
   "execution_count": 1,
   "metadata": {},
   "outputs": [],
   "source": [
    "import numpy as np, curvedsky, prjlib, plottools as pl, tools_y, binning as bn, tools_qrec, pickle, analysis as ana\n",
    "from scipy.signal import savgol_filter\n",
    "from matplotlib.pyplot import *"
   ]
  },
  {
   "cell_type": "code",
   "execution_count": 2,
   "metadata": {},
   "outputs": [],
   "source": [
    "from matplotlib import rc\n",
    "rc('text', usetex=True)"
   ]
  },
  {
   "cell_type": "code",
   "execution_count": 3,
   "metadata": {},
   "outputs": [],
   "source": [
    "#fltr='cinv'\n",
    "#ytype='nilc'\n",
    "#mtype=0\n",
    "#dtype='dr2_smica'\n",
    "#cmask='Lmask'\n",
    "form='{:.2f}'\n",
    "mb = bn.multipole_binning(10,lmin=1,lmax=2048)\n",
    "#p = prjlib.init_analysis(dtype=dtype,fltr=fltr,wtype=cmask)\n",
    "#qobj = {}\n",
    "#qobj['normal'], __, __, qobj['lens'], qobj['lens-src'] = tools_qrec.init_quad(p.ids,p.stag,rlmin=100,rlmax=2048)\n",
    "#cy = tools_y.init_compy(p.ids,masktype=mtype,ytype=ytype,ascale=1.0)"
   ]
  },
  {
   "cell_type": "code",
   "execution_count": 4,
   "metadata": {},
   "outputs": [
    {
     "name": "stdout",
     "output_type": "stream",
     "text": [
      "chi: -2.9 , chi (sim mean): 0.0 , chi (sim std): 3.6 , PTE: 0.34 \n",
      "chi^2: 14.8 , chi^2 (sim): 11.2 , PTE: 0.19 \n"
     ]
    },
    {
     "data": {
      "image/png": "[encoded data removed]",
      "text/plain": [
       "<Figure size 432x288 with 1 Axes>"
      ]
     },
     "metadata": {
      "needs_background": "light"
     },
     "output_type": "display_data"
    }
   ],
   "source": [
    "pl.plot_1dstyle(ymin=-1.2,ymax=1.2,ylab=r'$10^{10}\\times LC_L^{\\tau y}$',usetex=True,yticks=[-1.,-.5,0.,.5,1.],yticks_labsize=12,xticks_labsize=12)\n",
    "s = 1e10*mb.bc\n",
    "for i, (bh, Lab, co, alpha) in enumerate([(['lens'],r'baseline (lens-hardening)','r',1.),(None,r'no bias-hardening','grey',.5),(['lens','src'],r'lens \\& source-hardening','g',.5)]):\n",
    "    mcb, vcb, scb, ocb = tools_y.load_binned_ty(mb,bhe=bh)\n",
    "    errorbar(mb.bc+i*10-10,s*ocb,yerr=s*vcb,fmt='o',color=co,alpha=alpha,label=Lab)\n",
    "axhline(0.,color='k',ls='--')\n",
    "st = ana.PTEs(ocb,scb,x1pte=True)\n",
    "#figtext(.2,.20,r'ymap:'+ytype+','+str(mtype))\n",
    "#figtext(.2,.25,r'tau:'+dtype+','+str(cmask))\n",
    "#figtext(.2,.35,r'$\\chi$-PTE:'+str(form.format(st.px1)))\n",
    "#figtext(.2,.30,r'$\\chi^2$-PTE:'+str(form.format(st.px2)))\n",
    "legend(loc=3)\n",
    "#savefig('fig_tauxy_BH.pdf')\n",
    "show()"
   ]
  },
  {
   "cell_type": "code",
   "execution_count": null,
   "metadata": {},
   "outputs": [],
   "source": []
  }
 ],
 "metadata": {
  "kernelspec": {
   "display_name": "py4so",
   "language": "python",
   "name": "py4so"
  },
  "language_info": {
   "codemirror_mode": {
    "name": "ipython",
    "version": 3
   },
   "file_extension": ".py",
   "mimetype": "text/x-python",
   "name": "python",
   "nbconvert_exporter": "python",
   "pygments_lexer": "ipython3",
   "version": "3.7.2"
  }
 },
 "nbformat": 4,
 "nbformat_minor": 4
}
