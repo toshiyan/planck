{
 "cells": [
  {
   "cell_type": "code",
   "execution_count": null,
   "metadata": {},
   "outputs": [],
   "source": [
    "import numpy as np, analysis as ana\n",
    "import prjlib\n",
    "\n",
    "m = 1\n",
    "b0, b1 = 0, 10\n",
    "\n",
    "for dtype in ['smica','nilc']:\n",
    "    for yn in [0,1,2,3]:\n",
    "        p, f, r = prjlib.analysis_init(yn=yn,dtype=dtype)\n",
    "        for y in ['nilc','milca']:\n",
    "            obs = np.loadtxt(f.xtbh[y].oxbs,unpack=True)[m][b0:b1]\n",
    "            sim = np.array([np.loadtxt(f.xtbh[y].xl[i],unpack=True)[m][b0:b1] for i in range(1,100)])\n",
    "            st = ana.statistics(obs,sim)\n",
    "            ana.statistics.x1PTE(st)\n",
    "            ana.statistics.x2PTE(st)\n",
    "            print(dtype,y,np.around(st.ox1,decimals=3), np.around(st.px1,decimals=3), np.around(st.ox2,decimals=3), np.around(st.px2,decimals=3))\n",
    "\n"
   ]
  }
 ],
 "metadata": {
  "kernelspec": {
   "display_name": "py4so",
   "language": "python",
   "name": "py4so"
  },
  "language_info": {
   "codemirror_mode": {
    "name": "ipython",
    "version": 3
   },
   "file_extension": ".py",
   "mimetype": "text/x-python",
   "name": "python",
   "nbconvert_exporter": "python",
   "pygments_lexer": "ipython3",
   "version": "3.7.2"
  }
 },
 "nbformat": 4,
 "nbformat_minor": 4
}
