{
 "cells": [
  {
   "cell_type": "code",
   "execution_count": 1,
   "metadata": {},
   "outputs": [],
   "source": [
    "import numpy as np, curvedsky, prjlib, plottools as pl, tools_y, binning as bn, tools_qrec, pickle, analysis as ana, quad_func\n",
    "from matplotlib.pyplot import *"
   ]
  },
  {
   "cell_type": "code",
   "execution_count": 2,
   "metadata": {},
   "outputs": [],
   "source": [
    "def PTEs_ty(mb,**kwargs):\n",
    "    mcb, vcb, scb, ocb = tools_y.load_binned_ty(mb,**kwargs)\n",
    "    st = ana.PTEs(ocb,scb,x1pte=True)"
   ]
  },
  {
   "cell_type": "code",
   "execution_count": 3,
   "metadata": {},
   "outputs": [],
   "source": [
    "mb = bn.multipole_binning(10,lmin=1,lmax=2048)"
   ]
  },
  {
   "cell_type": "code",
   "execution_count": 4,
   "metadata": {},
   "outputs": [
    {
     "name": "stdout",
     "output_type": "stream",
     "text": [
      "chi: -2.5 , chi (sim mean): -0.0 , chi (sim std): 3.3 , PTE: 0.44 \n",
      "chi^2: 16.1 , chi^2 (sim): 11.1 , PTE: 0.18 \n",
      "chi: 0.9 , chi (sim mean): -0.0 , chi (sim std): 3.6 , PTE: 0.74 \n",
      "chi^2: 8.9 , chi^2 (sim): 11.2 , PTE: 0.58 \n",
      "chi: -2.3 , chi (sim mean): -0.0 , chi (sim std): 3.2 , PTE: 0.42 \n",
      "chi^2: 11.4 , chi^2 (sim): 11.1 , PTE: 0.41 \n",
      "chi: -4.6 , chi (sim mean): -0.0 , chi (sim std): 3.3 , PTE: 0.12 \n",
      "chi^2: 15.1 , chi^2 (sim): 11.2 , PTE: 0.22 \n",
      "chi: -3.8 , chi (sim mean): -0.0 , chi (sim std): 3.1 , PTE: 0.22 \n",
      "chi^2: 7.6 , chi^2 (sim): 11.1 , PTE: 0.76 \n",
      "chi: 0.7 , chi (sim mean): -0.0 , chi (sim std): 2.8 , PTE: 0.84 \n",
      "chi^2: 13.8 , chi^2 (sim): 11.1 , PTE: 0.28 \n"
     ]
    }
   ],
   "source": [
    "PTEs_ty(mb)\n",
    "PTEs_ty(mb,dtype='dr2_nilc')\n",
    "PTEs_ty(mb,cmask='G60Lmask')\n",
    "PTEs_ty(mb,ytype='milca')\n",
    "PTEs_ty(mb,mtype=1)\n",
    "PTEs_ty(mb,dtype='dr3_nosz',cmask='LmaskDR3')"
   ]
  },
  {
   "cell_type": "code",
   "execution_count": null,
   "metadata": {},
   "outputs": [],
   "source": []
  }
 ],
 "metadata": {
  "kernelspec": {
   "display_name": "py4so",
   "language": "python",
   "name": "py4so"
  },
  "language_info": {
   "codemirror_mode": {
    "name": "ipython",
    "version": 3
   },
   "file_extension": ".py",
   "mimetype": "text/x-python",
   "name": "python",
   "nbconvert_exporter": "python",
   "pygments_lexer": "ipython3",
   "version": "3.7.2"
  }
 },
 "nbformat": 4,
 "nbformat_minor": 4
}
