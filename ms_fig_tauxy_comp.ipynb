{
 "cells": [
  {
   "cell_type": "code",
   "execution_count": 1,
   "metadata": {},
   "outputs": [],
   "source": [
    "import numpy as np, prjlib, plottools as pl, tools_y, binning as bn, tools_qrec, pickle\n",
    "from matplotlib.pyplot import *"
   ]
  },
  {
   "cell_type": "code",
   "execution_count": 2,
   "metadata": {},
   "outputs": [],
   "source": [
    "def plots(mb,i,fltr='cinv',ytype='nilc',mtype=0,dtype='dr2_smica',cmask='Lmask',form='{:.2f}',co='r',Lab='Baseline'):\n",
    "    #s = mb.bc*(mb.bc+1)/2/np.pi*1e8\n",
    "    s = mb.bc*1e10\n",
    "    p = prjlib.init_analysis(dtype=dtype,fltr=fltr,wtype=cmask)\n",
    "    __, __, __, __, qtBH = tools_qrec.init_quad(p.ids,p.stag,rlmin=100,rlmax=2048)\n",
    "    cy = tools_y.init_compy(p.ids,masktype=mtype,ytype=ytype,ascale=1.)\n",
    "    fxtBH = tools_y.init_cross(qtBH,cy,p.ids,p.stag,est='bh-lens')\n",
    "    #pl.plot_1dstyle(ymin=-1.,ymax=1.,ylab=r'$10^8\\times L(L+1)C_L^{\\tau y}/2\\pi$',usetex=True,yticks=[-1.,-.5,0.,.5,1.],yticks_labsize=12,xticks_labsize=12)\n",
    "    pl.plot_1dstyle(ymin=-1.,ymax=1.,ylab=r'$10^{10}\\times LC_L^{\\tau y}$',usetex=True,yticks=[-1.,-.5,0.,.5,1.],yticks_labsize=12,xticks_labsize=12)\n",
    "    mcb, vcb, scb, ocb = bn.binned_spec(mb,fxtBH.xl,cn=1)\n",
    "    errorbar(mb.bc+i*21-50,s*ocb,yerr=s*vcb,fmt='o',color=co,label=Lab)"
   ]
  },
  {
   "cell_type": "code",
   "execution_count": 3,
   "metadata": {},
   "outputs": [],
   "source": [
    "def plots_tt(mb,dtype='dr2_smica',cmask='Lmask',form='{:.2f}'):\n",
    "    p = prjlib.init_analysis(dtype=dtype,fltr='cinv',wtype=cmask)\n",
    "    qobj = {}\n",
    "    __, __, __, qobj['lens'], qobj['lens-src'] = tools_qrec.init_quad(p.ids,p.stag,rlmin=100,rlmax=2048)\n",
    "    for bh in ['lens','lens-src']:\n",
    "        ott, mtt, stt, __ = prjlib.load_binned_tt(mb,qobj[bh],p.rlz)"
   ]
  },
  {
   "cell_type": "code",
   "execution_count": 4,
   "metadata": {},
   "outputs": [],
   "source": [
    "mb = bn.multipole_binning(10,lmin=1,lmax=2048)"
   ]
  },
  {
   "cell_type": "code",
   "execution_count": 5,
   "metadata": {},
   "outputs": [
    {
     "data": {
      "image/png": "[encoded data removed]",
      "text/plain": [
       "<Figure size 432x288 with 1 Axes>"
      ]
     },
     "metadata": {
      "needs_background": "light"
     },
     "output_type": "display_data"
    }
   ],
   "source": [
    "plots(mb,0)\n",
    "plots(mb,1,co='g',ytype='milca',Lab='MILCA y-map')\n",
    "plots(mb,2,co='m',mtype=1,Lab='G50 mask for y-map')\n",
    "plots(mb,3,co='c',dtype='dr2_nilc',Lab='NILC CMB map')\n",
    "##plots(mb,4,co='b',cmask='G60Lmask',Lab='G60 lensing mask for CMB map')\n",
    "plots(mb,4,co='b',dtype='dr3_nosz',cmask='LmaskDR3',Lab='No SZ')\n",
    "##plots(mb,5,co='b',fltr='none',Lab='diag')\n",
    "axhline(0.,color='k',ls='--')\n",
    "legend()\n",
    "savefig('fig_tauxy_comparison.pdf')\n",
    "#savefig('fig_tauxy_comparison.png',dpi=600)\n",
    "show()"
   ]
  },
  {
   "cell_type": "code",
   "execution_count": null,
   "metadata": {},
   "outputs": [],
   "source": []
  }
 ],
 "metadata": {
  "kernelspec": {
   "display_name": "py4so",
   "language": "python",
   "name": "py4so"
  },
  "language_info": {
   "codemirror_mode": {
    "name": "ipython",
    "version": 3
   },
   "file_extension": ".py",
   "mimetype": "text/x-python",
   "name": "python",
   "nbconvert_exporter": "python",
   "pygments_lexer": "ipython3",
   "version": "3.7.2"
  }
 },
 "nbformat": 4,
 "nbformat_minor": 4
}
