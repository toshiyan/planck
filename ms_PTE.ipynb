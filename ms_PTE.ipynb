{
 "cells": [
  {
   "cell_type": "code",
   "execution_count": 1,
   "metadata": {},
   "outputs": [],
   "source": [
    "import numpy as np, curvedsky, prjlib, plottools as pl, tools_y, binning as bn, tools_qrec, pickle, analysis as ana\n",
    "from matplotlib.pyplot import *"
   ]
  },
  {
   "cell_type": "code",
   "execution_count": 2,
   "metadata": {},
   "outputs": [],
   "source": [
    "def PTEs(mb,fltr='cinv',ytype='nilc',mtype=0,dtype='dr2_smica',cmask='Lmask',form='{:.2f}'):\n",
    "    p = prjlib.init_analysis(dtype=dtype,fltr=fltr,wtype=cmask)\n",
    "    __, __, __, __, qtBH = tools_qrec.init_quad(p.ids,p.stag,rlmin=100,rlmax=2048)\n",
    "    cy = tools_y.init_compy(p.ids,masktype=mtype,ytype=ytype,ascale=1.0)\n",
    "    fxtBH = tools_y.init_cross(qtBH,cy,p.ids,'BH_'+p.stag)\n",
    "    mcb, vcb, scb, ocb = bn.binned_spec(mb,fxtBH.xl,cn=1)\n",
    "    st = ana.PTEs(ocb,scb,x1pte=True)"
   ]
  },
  {
   "cell_type": "code",
   "execution_count": 3,
   "metadata": {},
   "outputs": [],
   "source": [
    "mb = bn.multipole_binning(10,lmin=1,lmax=2048)"
   ]
  },
  {
   "cell_type": "code",
   "execution_count": 6,
   "metadata": {},
   "outputs": [
    {
     "name": "stdout",
     "output_type": "stream",
     "text": [
      "chi: -1.3 , chi (sim): 0.0 , PTE: 0.64 (nilc,0)\n",
      "chi^2: 14.8 , chi^2 (sim): 11.1 , PTE: 0.20 (nilc,0)\n",
      "chi: 1.3 , chi (sim): -0.0 , PTE: 0.72 (nilc,0)\n",
      "chi^2: 9.5 , chi^2 (sim): 11.2 , PTE: 0.51 (nilc,0)\n",
      "chi: -0.4 , chi (sim): 0.0 , PTE: 1.00 (nilc,0)\n",
      "chi^2: 10.6 , chi^2 (sim): 11.1 , PTE: 0.47 (nilc,0)\n",
      "chi: -3.1 , chi (sim): 0.0 , PTE: 0.32 (milca,0)\n",
      "chi^2: 14.1 , chi^2 (sim): 11.2 , PTE: 0.30 (milca,0)\n",
      "chi: -3.0 , chi (sim): -0.0 , PTE: 0.40 (nilc,1)\n",
      "chi^2: 6.1 , chi^2 (sim): 11.1 , PTE: 0.83 (nilc,1)\n"
     ]
    }
   ],
   "source": [
    "PTEs(mb)\n",
    "PTEs(mb,dtype='dr2_nilc')\n",
    "PTEs(mb,cmask='G60Lmask')\n",
    "PTEs(mb,ytype='milca')\n",
    "PTEs(mb,mtype=1)"
   ]
  },
  {
   "cell_type": "code",
   "execution_count": null,
   "metadata": {},
   "outputs": [],
   "source": []
  }
 ],
 "metadata": {
  "kernelspec": {
   "display_name": "py4so",
   "language": "python",
   "name": "py4so"
  },
  "language_info": {
   "codemirror_mode": {
    "name": "ipython",
    "version": 3
   },
   "file_extension": ".py",
   "mimetype": "text/x-python",
   "name": "python",
   "nbconvert_exporter": "python",
   "pygments_lexer": "ipython3",
   "version": "3.7.2"
  }
 },
 "nbformat": 4,
 "nbformat_minor": 4
}
