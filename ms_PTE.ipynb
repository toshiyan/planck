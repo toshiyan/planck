{
 "cells": [
  {
   "cell_type": "code",
   "execution_count": 1,
   "metadata": {},
   "outputs": [],
   "source": [
    "import numpy as np, curvedsky, prjlib, plottools as pl, tools_y, binning as bn, tools_qrec, pickle, analysis as ana\n",
    "from matplotlib.pyplot import *"
   ]
  },
  {
   "cell_type": "code",
   "execution_count": 2,
   "metadata": {},
   "outputs": [],
   "source": [
    "def PTEs_ty(mb,fltr='cinv',ytype='nilc',mtype=0,dtype='dr2_smica',cmask='Lmask',form='{:.2f}'):\n",
    "    p = prjlib.init_analysis(dtype=dtype,fltr=fltr,wtype=cmask)\n",
    "    cy = tools_y.init_compy(p.ids,masktype=mtype,ytype=ytype,ascale=1.0)\n",
    "    qobj = {}\n",
    "    __, __, __, qobj['bh-lens'], qobj['bh-lens-src'] = tools_qrec.init_quad(p.ids,p.stag,rlmin=100,rlmax=2048)\n",
    "    #for est in ['bh-lens','bh-lens-src']:\n",
    "    for est in ['bh-lens']:\n",
    "        fxtBH = tools_y.init_cross(qobj[est],cy,p.ids,p.stag,est=est)\n",
    "        yy = (np.loadtxt(cy.fclyy)).T[1]\n",
    "        al = (np.loadtxt(qobj[est].f['TT'].al)).T[1]\n",
    "        vl = np.sqrt(al*yy)/np.sqrt(qobj[est].l+1e-30)\n",
    "        mcb, vcb, scb, ocb = bn.binned_spec(mb,fxtBH.xl,cn=1,opt=True,vl=vl)\n",
    "        st = ana.PTEs(ocb,scb,x1pte=True)"
   ]
  },
  {
   "cell_type": "code",
   "execution_count": 3,
   "metadata": {},
   "outputs": [],
   "source": [
    "def PTEs_tt(mb,dtype='dr2_smica',cmask='Lmask',form='{:.2f}'):\n",
    "    p = prjlib.init_analysis(dtype=dtype,fltr='cinv',wtype=cmask)\n",
    "    qobj = {}\n",
    "    __, __, __, qobj['lens'], qobj['lens-src'] = tools_qrec.init_quad(p.ids,p.stag,rlmin=100,rlmax=2048)\n",
    "    for bh in ['lens','lens-src']:\n",
    "        ott, mtt, stt, __ = prjlib.load_binned_tt(mb,qobj[bh],p.rlz)\n",
    "        st = ana.PTEs(ott,stt-mtt,x1pte=True)"
   ]
  },
  {
   "cell_type": "code",
   "execution_count": 4,
   "metadata": {},
   "outputs": [],
   "source": [
    "mb = bn.multipole_binning(10,lmin=1,lmax=2048)"
   ]
  },
  {
   "cell_type": "code",
   "execution_count": 6,
   "metadata": {},
   "outputs": [
    {
     "name": "stdout",
     "output_type": "stream",
     "text": [
      "chi: -2.7 , chi (sim mean): -0.0 , chi (sim std): 3.3 , PTE: 0.42 \n",
      "chi^2: 16.1 , chi^2 (sim): 11.1 , PTE: 0.18 \n",
      "chi: 0.7 , chi (sim mean): -0.0 , chi (sim std): 3.6 , PTE: 0.78 \n",
      "chi^2: 8.8 , chi^2 (sim): 11.2 , PTE: 0.59 \n",
      "chi: -2.5 , chi (sim mean): -0.0 , chi (sim std): 3.2 , PTE: 0.40 \n",
      "chi^2: 11.2 , chi^2 (sim): 11.1 , PTE: 0.42 \n",
      "chi: -4.6 , chi (sim mean): -0.0 , chi (sim std): 3.3 , PTE: 0.12 \n",
      "chi^2: 15.2 , chi^2 (sim): 11.2 , PTE: 0.21 \n",
      "chi: -4.0 , chi (sim mean): -0.0 , chi (sim std): 3.1 , PTE: 0.20 \n",
      "chi^2: 7.8 , chi^2 (sim): 11.1 , PTE: 0.74 \n",
      "chi: 0.6 , chi (sim mean): -0.0 , chi (sim std): 2.8 , PTE: 0.88 \n",
      "chi^2: 13.7 , chi^2 (sim): 11.1 , PTE: 0.29 \n"
     ]
    }
   ],
   "source": [
    "PTEs_ty(mb)\n",
    "PTEs_ty(mb,dtype='dr2_nilc')\n",
    "PTEs_ty(mb,cmask='G60Lmask')\n",
    "PTEs_ty(mb,ytype='milca')\n",
    "PTEs_ty(mb,mtype=1)\n",
    "PTEs_ty(mb,dtype='dr3_nosz',cmask='LmaskDR3')"
   ]
  },
  {
   "cell_type": "code",
   "execution_count": null,
   "metadata": {},
   "outputs": [],
   "source": [
    "PTEs_tt(mb)\n",
    "PTEs_tt(mb,dtype='dr2_nilc')\n",
    "#PTEs_tt(mb,cmask='G60Lmask')\n",
    "PTEs_tt(mb,dtype='dr3_nosz',cmask='LmaskDR3')"
   ]
  },
  {
   "cell_type": "code",
   "execution_count": null,
   "metadata": {},
   "outputs": [],
   "source": []
  }
 ],
 "metadata": {
  "kernelspec": {
   "display_name": "py4so",
   "language": "python",
   "name": "py4so"
  },
  "language_info": {
   "codemirror_mode": {
    "name": "ipython",
    "version": 3
   },
   "file_extension": ".py",
   "mimetype": "text/x-python",
   "name": "python",
   "nbconvert_exporter": "python",
   "pygments_lexer": "ipython3",
   "version": "3.7.2"
  }
 },
 "nbformat": 4,
 "nbformat_minor": 4
}
