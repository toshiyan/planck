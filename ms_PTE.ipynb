{
 "cells": [
  {
   "cell_type": "code",
   "execution_count": 2,
   "metadata": {},
   "outputs": [],
   "source": [
    "import numpy as np, curvedsky, prjlib, plottools as pl, tools_y, binning as bn, tools_qrec, pickle, analysis as ana\n",
    "from matplotlib.pyplot import *"
   ]
  },
  {
   "cell_type": "code",
   "execution_count": 7,
   "metadata": {},
   "outputs": [],
   "source": [
    "def PTEs(mb,fltr='cinv',ytype='nilc',mtype=0,dtype='dr2_smica',cmask='Lmask',form='{:.2f}'):\n",
    "    p = prjlib.init_analysis(dtype=dtype,fltr=fltr,wtype=cmask)\n",
    "    __, __, __, __, qtBH = tools_qrec.init_quad(p.ids,p.stag,rlmin=100,rlmax=2048)\n",
    "    cy = tools_y.init_compy(p.ids,masktype=mtype,ytype=ytype,ascale=1.0)\n",
    "    fxtBH = tools_y.init_cross(qtBH,cy,p.ids,p.stag,est='bh-lens-src')\n",
    "    yy = (np.loadtxt(cy.fclyy)).T[1]\n",
    "    al = (np.loadtxt(qtBH.f['TT'].al)).T[1]\n",
    "    vl = np.sqrt(al*yy)/np.sqrt(qtBH.l+1e-30)\n",
    "    mcb, vcb, scb, ocb = bn.binned_spec(mb,fxtBH.xl,cn=1,opt=True,vl=vl)\n",
    "    st = ana.PTEs(ocb,scb,x1pte=True)"
   ]
  },
  {
   "cell_type": "code",
   "execution_count": 8,
   "metadata": {},
   "outputs": [],
   "source": [
    "mb = bn.multipole_binning(10,lmin=1,lmax=2048)"
   ]
  },
  {
   "cell_type": "code",
   "execution_count": 9,
   "metadata": {},
   "outputs": [
    {
     "name": "stdout",
     "output_type": "stream",
     "text": [
      "chi: -2.6 , chi (sim): -0.0 , PTE: 0.44 \n",
      "chi^2: 16.0 , chi^2 (sim): 11.1 , PTE: 0.18 \n",
      "chi: 0.9 , chi (sim): -0.0 , PTE: 0.70 \n",
      "chi^2: 9.0 , chi^2 (sim): 11.2 , PTE: 0.57 \n",
      "chi: -2.4 , chi (sim): -0.0 , PTE: 0.42 \n",
      "chi^2: 11.1 , chi^2 (sim): 11.1 , PTE: 0.43 \n",
      "chi: -4.5 , chi (sim): -0.0 , PTE: 0.12 \n",
      "chi^2: 15.1 , chi^2 (sim): 11.2 , PTE: 0.21 \n",
      "chi: -3.9 , chi (sim): -0.0 , PTE: 0.20 \n",
      "chi^2: 7.7 , chi^2 (sim): 11.1 , PTE: 0.76 \n",
      "chi: 0.3 , chi (sim): -0.0 , PTE: 0.98 \n",
      "chi^2: 16.4 , chi^2 (sim): 11.2 , PTE: 0.16 \n"
     ]
    }
   ],
   "source": [
    "PTEs(mb)\n",
    "PTEs(mb,dtype='dr2_nilc')\n",
    "PTEs(mb,cmask='G60Lmask')\n",
    "PTEs(mb,ytype='milca')\n",
    "PTEs(mb,mtype=1)\n",
    "PTEs(mb,dtype='dr3_nosz')"
   ]
  },
  {
   "cell_type": "code",
   "execution_count": null,
   "metadata": {},
   "outputs": [],
   "source": []
  }
 ],
 "metadata": {
  "kernelspec": {
   "display_name": "py4so",
   "language": "python",
   "name": "py4so"
  },
  "language_info": {
   "codemirror_mode": {
    "name": "ipython",
    "version": 3
   },
   "file_extension": ".py",
   "mimetype": "text/x-python",
   "name": "python",
   "nbconvert_exporter": "python",
   "pygments_lexer": "ipython3",
   "version": "3.7.2"
  }
 },
 "nbformat": 4,
 "nbformat_minor": 4
}
