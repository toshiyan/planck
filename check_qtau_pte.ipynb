{
 "cells": [
  {
   "cell_type": "code",
   "execution_count": 1,
   "metadata": {},
   "outputs": [],
   "source": [
    "import numpy as np, curvedsky, prjlib, plottools as pl, binning as bn, tools_qrec, pickle, analysis as ana\n",
    "from matplotlib.pyplot import *"
   ]
  },
  {
   "cell_type": "code",
   "execution_count": 2,
   "metadata": {},
   "outputs": [],
   "source": [
    "def PTEs_tt(mb,dtype='dr2_smica',cmask='Lmask',form='{:.2f}',bhs=[['lens'],['lens','src']]):\n",
    "    for bh in bhs:\n",
    "        mtt, vtt, stt, ott = tools_qrec.load_binned_tt(mb,dtype=dtype,cmask=cmask,bhe=bh)\n",
    "        st = ana.PTEs(ott,stt-mtt,x1pte=True)"
   ]
  },
  {
   "cell_type": "code",
   "execution_count": 3,
   "metadata": {},
   "outputs": [],
   "source": [
    "mb = bn.multipole_binning(10,lmin=1,lmax=2048)"
   ]
  },
  {
   "cell_type": "code",
   "execution_count": 4,
   "metadata": {},
   "outputs": [
    {
     "name": "stdout",
     "output_type": "stream",
     "text": [
      "chi: -4.5 , chi (sim mean): 0.0 , chi (sim std): 3.7 , PTE: 0.22 \n",
      "chi^2: 16.7 , chi^2 (sim): 11.2 , PTE: 0.18 \n",
      "chi: -7.0 , chi (sim mean): 0.0 , chi (sim std): 3.6 , PTE: 0.08 \n",
      "chi^2: 19.5 , chi^2 (sim): 11.2 , PTE: 0.09 \n",
      "chi: 0.9 , chi (sim mean): 0.0 , chi (sim std): 4.3 , PTE: 0.74 \n",
      "chi^2: 7.8 , chi^2 (sim): 11.1 , PTE: 0.71 \n",
      "chi: -5.3 , chi (sim mean): 0.0 , chi (sim std): 4.3 , PTE: 0.22 \n",
      "chi^2: 15.5 , chi^2 (sim): 11.1 , PTE: 0.17 \n",
      "chi: -5.3 , chi (sim mean): -0.0 , chi (sim std): 4.4 , PTE: 0.18 \n",
      "chi^2: 22.4 , chi^2 (sim): 11.2 , PTE: 0.04 \n"
     ]
    }
   ],
   "source": [
    "PTEs_tt(mb)\n",
    "PTEs_tt(mb,dtype='dr2_nilc')\n",
    "PTEs_tt(mb,dtype='dr3_nosz',cmask='LmaskDR3',bhs=[['lens','src']])"
   ]
  },
  {
   "cell_type": "code",
   "execution_count": null,
   "metadata": {},
   "outputs": [],
   "source": []
  }
 ],
 "metadata": {
  "kernelspec": {
   "display_name": "py4so",
   "language": "python",
   "name": "py4so"
  },
  "language_info": {
   "codemirror_mode": {
    "name": "ipython",
    "version": 3
   },
   "file_extension": ".py",
   "mimetype": "text/x-python",
   "name": "python",
   "nbconvert_exporter": "python",
   "pygments_lexer": "ipython3",
   "version": "3.7.2"
  }
 },
 "nbformat": 4,
 "nbformat_minor": 4
}
