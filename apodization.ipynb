{
 "cells": [
  {
   "cell_type": "code",
   "execution_count": 1,
   "metadata": {},
   "outputs": [],
   "source": [
    "import numpy as np\n",
    "from matplotlib.pyplot import *"
   ]
  },
  {
   "cell_type": "code",
   "execution_count": null,
   "metadata": {},
   "outputs": [],
   "source": [
    "def fx0(x):\n",
    "    if x>=1.:\n",
    "        f=1.\n",
    "    elif x<=0:\n",
    "        f=0.\n",
    "    else:\n",
    "        f = x-np.sin(2*np.pi*x)/2/np.pi\n",
    "    return f"
   ]
  },
  {
   "cell_type": "code",
   "execution_count": null,
   "metadata": {},
   "outputs": [],
   "source": [
    "def fx1(x):\n",
    "    if x>=1.:\n",
    "        f=1.\n",
    "    elif x<=0:\n",
    "        f=0.\n",
    "    else:\n",
    "        f = .5+0.5*np.sin(np.pi*x-np.pi/2)\n",
    "    return f"
   ]
  },
  {
   "cell_type": "code",
   "execution_count": null,
   "metadata": {},
   "outputs": [],
   "source": [
    "x = np.arange(-100,100,.0001)\n",
    "f0 = np.array([fx0(xi) for xi in x])\n",
    "f1 = np.array([fx1(xi) for xi in x])\n",
    "xlim(0,1)\n",
    "ylim(0,1)\n",
    "plot(x,f0)\n",
    "plot(x,f1)"
   ]
  },
  {
   "cell_type": "code",
   "execution_count": null,
   "metadata": {},
   "outputs": [],
   "source": [
    "Fx0 = np.fft.fft(f0)\n",
    "Fx1 = np.fft.fft(f1)\n",
    "l = np.fft.fftfreq(x.shape[-1])"
   ]
  },
  {
   "cell_type": "code",
   "execution_count": null,
   "metadata": {},
   "outputs": [],
   "source": [
    "yscale('log')\n",
    "xlim(-.0005,.0005)\n",
    "plot(l,Fx0/max(Fx0))\n",
    "plot(l,Fx1/max(Fx1))"
   ]
  }
 ],
 "metadata": {
  "kernelspec": {
   "display_name": "Python 3",
   "language": "python",
   "name": "python3"
  },
  "language_info": {
   "codemirror_mode": {
    "name": "ipython",
    "version": 3
   },
   "file_extension": ".py",
   "mimetype": "text/x-python",
   "name": "python",
   "nbconvert_exporter": "python",
   "pygments_lexer": "ipython3",
   "version": "3.7.2"
  }
 },
 "nbformat": 4,
 "nbformat_minor": 4
}
